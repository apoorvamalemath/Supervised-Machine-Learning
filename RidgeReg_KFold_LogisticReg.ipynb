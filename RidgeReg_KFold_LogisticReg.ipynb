{
 "cells": [
  {
   "cell_type": "markdown",
   "metadata": {
    "id": "qmd5z4M9HMsJ"
   },
   "source": [
    "<center><h1> Homework 2 </h2>\n",
    "Supervised Machine Learning DS-5220 - Fall 2021 \n",
    "\n",
    "</center>\n",
    "\n"
   ]
  },
  {
   "cell_type": "markdown",
   "metadata": {
    "id": "BFHfXjoomlQO"
   },
   "source": [
    "<center>Submitted by : Apoorva Surendra Malemath </center>"
   ]
  },
  {
   "cell_type": "markdown",
   "metadata": {
    "id": "t7AayGP6quuW"
   },
   "source": [
    "<b>1.Ridge Regression  </b>"
   ]
  },
  {
   "cell_type": "code",
   "execution_count": 1,
   "metadata": {
    "id": "GUUJKzeuJXO-"
   },
   "outputs": [],
   "source": [
    "#importing libraries\n",
    "import pandas as pd\n",
    "import numpy as np\n",
    "from numpy.linalg import inv\n",
    "import math\n",
    "import scipy.io\n",
    "import matplotlib.pyplot as plt\n",
    "from scipy.optimize import fmin_tnc\n",
    "from pandas.core.common import SettingWithCopyWarning\n",
    "\n",
    "import warnings\n",
    "warnings.simplefilter(action=\"ignore\", category=SettingWithCopyWarning)"
   ]
  },
  {
   "cell_type": "code",
   "execution_count": 2,
   "metadata": {
    "id": "UV3Utro7UpBK"
   },
   "outputs": [],
   "source": [
    "def createPhiX(x,n):\n",
    "  # The function createPhix constructs a rich feature vector   \n",
    "  #x is the vector\n",
    "  #n denotes the maximum degree of x \n",
    "\n",
    "  # Appending theta0 i.e. 1 as the first column\n",
    "  x.insert(0,0, 1)\n",
    "  colX=x.iloc[: , -1] # Extracting col x\n",
    "  if(n==1):\n",
    "    return x\n",
    "  else:\n",
    "    for i in range(2,n+1):\n",
    "      colname=\"x\"+str(i)\n",
    "      x.insert(i,colname,colX**i) #appending column x with ith power\n",
    "\n",
    "  return x    \n"
   ]
  },
  {
   "cell_type": "markdown",
   "metadata": {
    "id": "sA-tL6gzW4Xr"
   },
   "source": [
    "<b>createPhix</b> constructs a rich feature vector. The function accepts an input vector with dimenssion 1 and the value n which denotes the maximum degree of x. <br>\n",
    "\n",
    "The function performs the following actions: \n",
    "\n",
    "1. Appends $θ_{0}$ with values 1.\n",
    "2. Appends the values $x^2$, $x^3$ .. $x^n$ based on the value of n.\n",
    "3.  Return the resultant matrix $\\phi(x_i)$"
   ]
  },
  {
   "cell_type": "code",
   "execution_count": 3,
   "metadata": {
    "id": "RX36z7pAqBQG"
   },
   "outputs": [],
   "source": [
    "def trainModelRidge(trainX,trainY,Lambda):\n",
    "  # The function trainModel implements the closed form solution. \n",
    "  dim=trainX.shape[1]\n",
    "  I=np.identity(dim)\n",
    "  theta = np.dot(inv(np.dot(np.transpose(trainX),trainX)+np.multiply(I,Lambda))\n",
    "  ,np.dot(np.transpose(trainX), trainY))\n",
    "  \n",
    "  return theta"
   ]
  },
  {
   "cell_type": "markdown",
   "metadata": {
    "id": "sP-JdYJ2qCwc"
   },
   "source": [
    "<b>trainModelRidge</b> implements the closed form solution using the below equation: <br>\n",
    "\n",
    "$\\tilde{\\theta}$ = $(x^Tx + \\lambda I)^{-1}x^Ty$\n",
    "\n",
    "Returns the value for $\\tilde{\\theta}$"
   ]
  },
  {
   "cell_type": "code",
   "execution_count": 4,
   "metadata": {
    "id": "E7o_2fi8XIYK"
   },
   "outputs": [],
   "source": [
    "def predict(testX,thetaTilda):\n",
    "  # The function predict outputs the value fx for the test data set. \n",
    "  fx=np.dot(testX, thetaTilda)\n",
    "\n",
    "  return fx"
   ]
  },
  {
   "cell_type": "markdown",
   "metadata": {
    "id": "0PWqKSUwXPsl"
   },
   "source": [
    "<b>predict</b> outputs the value $f(x)$ for the test data using the below equation: <br>\n",
    "$f(x) = x$$\\tilde{\\theta}$\n",
    "\n",
    "And returns the value for $f(x)$."
   ]
  },
  {
   "cell_type": "code",
   "execution_count": 5,
   "metadata": {
    "id": "xI4qAG7wcCHR"
   },
   "outputs": [],
   "source": [
    "def RMSE (fx,testY,n):\n",
    "  # The function calculates the mean squared error.\n",
    "  #n denotes the number of samples in the dataset\n",
    "  loss =(abs(fx-testY))**2/n\n",
    "  rmse = math.sqrt(loss.sum())\n",
    "  return rmse"
   ]
  },
  {
   "cell_type": "markdown",
   "metadata": {
    "id": "DxCbBiT-nL8A"
   },
   "source": [
    "<b> Root Mean Square Error (RMSE) </b> calculates the mean squared error between the predicted value and actual value for the test dataset using the below equation: <br>\n",
    "$L=  \\sqrt{\\dfrac{\\sum_{n=1}^{n} (f(x_{i})-y_{i})}{n}} $\n",
    "\n",
    "And returns the RMSE. "
   ]
  },
  {
   "cell_type": "code",
   "execution_count": 6,
   "metadata": {
    "id": "EOicIsRaiw6c"
   },
   "outputs": [],
   "source": [
    "def stochasticGDRidge(trainData_SG, n,m,rho,Lambda):\n",
    "  # Implements the stochastic gradient descent on mini-batches of size m.\n",
    "  # n - number of iterations\n",
    "  # m - mini-batch size\n",
    "  # rho - learning rate\n",
    "  #Lambda - Scalar quantity\n",
    "  \n",
    "  dim=trainData_SG.shape[1]\n",
    "  thetaTilda = np.random.rand(dim-1, 1) #initializing thetaTilda to random value\n",
    "\n",
    "  I=np.identity(dim-1)\n",
    "\n",
    "  for i in range(n):\n",
    "    for j in range(m): \n",
    "      #creating random samples from the train dataset\n",
    "      miniX = trainData_SG.sample(m) \n",
    "      trainX_SG=miniX.iloc[:,0:dim-1]\n",
    "      trainY_SG=pd.DataFrame(miniX.iloc[:,dim-1])\n",
    "      thetaTilda = thetaTilda - (rho*(np.dot((np.dot(np.transpose(trainX_SG,)\n",
    "      ,trainX_SG))+np.multiply(I,Lambda),thetaTilda)-\n",
    "      (np.dot(np.transpose(trainX_SG),trainY_SG))))\n",
    "  \n",
    "  return thetaTilda"
   ]
  },
  {
   "cell_type": "markdown",
   "metadata": {
    "id": "iNCb79z61SzC"
   },
   "source": [
    "<b> stochasticGDRidge </b> implements the stochastic gradient descent on mini-batches of size m using the below equation:\n",
    "\n",
    "${\\theta}^t$ = $ \\theta^{t-1} - \\rho [(x^Tx + \\lambda I)\\theta ^{t-1} - x^T y]$\n",
    "\n",
    "And returns the vlaue for ${\\theta}$."
   ]
  },
  {
   "cell_type": "code",
   "execution_count": 7,
   "metadata": {
    "id": "8SvXPrqIjQPe"
   },
   "outputs": [],
   "source": [
    "def importTrainData():\n",
    "  #Importing Dataset\n",
    "  train_url='https://drive.google.com/file/d/1OaTit95VrAtZLjsPoxUu77MfmL4qDWW5/view?usp=sharing'\n",
    "  url1 = 'https://drive.google.com/uc?id=' + train_url.split('/')[-2]\n",
    "  trainData = pd.read_csv(url1)\n",
    "\n",
    "  return trainData"
   ]
  },
  {
   "cell_type": "code",
   "execution_count": 8,
   "metadata": {
    "id": "UhFuCMGcyjVI"
   },
   "outputs": [],
   "source": [
    "def importTestData():\n",
    "  #Importing Dataset\n",
    "  test_url = 'https://drive.google.com/file/d/1vslpigsii2UqSSQFa3DGxsGpRcVKN7EF/view?usp=sharing'\n",
    "  url2 = 'https://drive.google.com/uc?id=' + test_url.split('/')[-2]\n",
    "  testData = pd.read_csv(url2)\n",
    "\n",
    "  return testData"
   ]
  },
  {
   "cell_type": "code",
   "execution_count": 9,
   "metadata": {
    "id": "MB4taVoCx6rU"
   },
   "outputs": [],
   "source": [
    "def splitXY(Data):\n",
    "  #Seperating x and y in for train data\n",
    "  XData = Data['x']\n",
    "  YData = Data['y']\n",
    "\n",
    "  #converting series datatype to pandas dataframe\n",
    "  XData = XData.to_frame()\n",
    "  YData = YData.to_frame()\n",
    "\n",
    "  return XData,YData"
   ]
  },
  {
   "cell_type": "markdown",
   "metadata": {
    "id": "HH19YZ7xX02j"
   },
   "source": [
    "\n",
    "<b>(a)  Download HW2-1 dataset. Write a code in Python that applies Ridge regression to the dataset to compute θ for given λ.  \\\n",
    "Implement two cases \\\n",
    "i) closed-form solution </b> \n"
   ]
  },
  {
   "cell_type": "code",
   "execution_count": 10,
   "metadata": {
    "id": "9MGkCrJ5yv34"
   },
   "outputs": [],
   "source": [
    "#Importing Dataset\n",
    "trainData_P1= importTrainData()\n",
    "testData_P1=importTestData()\n",
    "\n",
    "#Seperating x and y in for train data\n",
    "trainX_P1, trainY_P1 = splitXY(trainData_P1)\n",
    "\n",
    "#Seperating x and y in for test data\n",
    "testX_P1, testY_P1 = splitXY(testData_P1)"
   ]
  },
  {
   "cell_type": "code",
   "execution_count": 11,
   "metadata": {
    "colab": {
     "base_uri": "https://localhost:8080/"
    },
    "id": "rWBz3BZiXdtD",
    "outputId": "550a36af-ba4b-4055-c6c2-d4c47049e90b"
   },
   "outputs": [
    {
     "name": "stdout",
     "output_type": "stream",
     "text": [
      "trainX matrix (𝜙(𝑥)): \n",
      "   0         x\n",
      "0  1 -2.752646\n",
      "1  1  2.991095\n",
      "2  1  2.013596\n",
      "3  1 -0.370822\n",
      "4  1  0.325225\n"
     ]
    }
   ],
   "source": [
    "#creating Phi(x) matrix for train data\n",
    "trainX_P1=createPhiX(trainX_P1,1) \n",
    "print(\"trainX matrix (𝜙(𝑥)): \")\n",
    "print(trainX_P1.head())"
   ]
  },
  {
   "cell_type": "code",
   "execution_count": 12,
   "metadata": {
    "colab": {
     "base_uri": "https://localhost:8080/"
    },
    "id": "AMLnyj1tZTO8",
    "outputId": "3d6b0daf-7c76-4fdc-be0d-5d3be255957a"
   },
   "outputs": [
    {
     "name": "stdout",
     "output_type": "stream",
     "text": [
      "testX matrix (𝜙(𝑥)):\n",
      "   0         x\n",
      "0  1  1.068146\n",
      "1  1 -2.698995\n",
      "2  1  2.332665\n",
      "3  1 -3.375883\n",
      "4  1 -2.727457\n"
     ]
    }
   ],
   "source": [
    "testX_P1=createPhiX(testX_P1,1) #creating Phi(x) matrix for test data\n",
    "print(\"testX matrix (𝜙(𝑥)):\")\n",
    "print(testX_P1.head())"
   ]
  },
  {
   "cell_type": "code",
   "execution_count": 13,
   "metadata": {
    "colab": {
     "base_uri": "https://localhost:8080/"
    },
    "id": "k9VrrZCJdeRc",
    "outputId": "d8fc5295-261d-4768-c0cd-24916cd32153"
   },
   "outputs": [
    {
     "name": "stdout",
     "output_type": "stream",
     "text": [
      "thetaTilda (𝜃̃):\n",
      "[[ 11.81000411]\n",
      " [113.72543565]]\n"
     ]
    }
   ],
   "source": [
    "Lambda=1\n",
    "thetaTilda_P1=trainModelRidge(trainX_P1,trainY_P1,Lambda) \n",
    "# Train the model to generate thetaTilda by applying the closed form solution \n",
    "#for Ridge Regression\n",
    "print(\"thetaTilda (𝜃̃):\")\n",
    "print(thetaTilda_P1)"
   ]
  },
  {
   "cell_type": "code",
   "execution_count": 14,
   "metadata": {
    "colab": {
     "base_uri": "https://localhost:8080/"
    },
    "id": "rvbWrae0decc",
    "outputId": "066c0d72-587a-44d3-addd-e4adb68f4236"
   },
   "outputs": [
    {
     "name": "stdout",
     "output_type": "stream",
     "text": [
      "Test Error for the closed form solution : 147.24833969454323\n"
     ]
    }
   ],
   "source": [
    "#Predicting fx using the model trained by the closed form solution.\n",
    "fx_P1=predict(testX_P1,thetaTilda_P1)\n",
    "#computing loss\n",
    "n=testY_P1.size\n",
    "loss_P1 = RMSE(fx_P1,testY_P1,n)\n",
    "print(\"Test Error for the closed form solution :\", loss_P1)"
   ]
  },
  {
   "cell_type": "markdown",
   "metadata": {
    "id": "J5EdNiq-Xuow"
   },
   "source": [
    "<b>ii) stochastic gradient descent with mini-batch of sizem.  [20 Points]  </b> "
   ]
  },
  {
   "cell_type": "code",
   "execution_count": 17,
   "metadata": {
    "id": "xzcGvxXXUpGQ"
   },
   "outputs": [],
   "source": [
    "trainData_SG_P1=trainData_P1['x'].to_frame()\n",
    "  \n",
    "#Creating Phi(X) for training data\n",
    "trainData_SG_P1=createPhiX(trainData_SG_P1,1)\n",
    "#Appending column Y to the train data\n",
    "trainData_SG_P1['y']=trainY_P1"
   ]
  },
  {
   "cell_type": "code",
   "execution_count": 24,
   "metadata": {
    "colab": {
     "base_uri": "https://localhost:8080/"
    },
    "id": "ONvCB58piber",
    "outputId": "ff19819d-4130-4b4d-854d-ad35df1bf7bb"
   },
   "outputs": [
    {
     "name": "stdout",
     "output_type": "stream",
     "text": [
      "Theta on Applying stochastic gradient descent with mini-batch of size 10 :\n",
      "[[  8.50083888]\n",
      " [109.52448434]]\n"
     ]
    }
   ],
   "source": [
    "#Applying stochastic gradient descent with mini-batch of size 10\n",
    "thetaTilda_SG_P1=stochasticGDRidge(trainData_SG_P1,100,10,0.0001,1)\n",
    "print(\"Theta on Applying stochastic gradient descent with mini-batch of size 10 :\")\n",
    "print(thetaTilda_SG_P1)"
   ]
  },
  {
   "cell_type": "code",
   "execution_count": 25,
   "metadata": {
    "colab": {
     "base_uri": "https://localhost:8080/"
    },
    "id": "3Fs4gRE2t2YW",
    "outputId": "b167de6a-5275-4432-87c3-793db5c0ed83"
   },
   "outputs": [
    {
     "name": "stdout",
     "output_type": "stream",
     "text": [
      "Test Error for the stochastic gradient descent form solution : 146.5477802574614\n"
     ]
    }
   ],
   "source": [
    "#Predicting fx using the model trained by the stochastic gradient descent \n",
    "#with mini-batch of size 10 using test data.\n",
    "fx_SD_P1=predict(testX_P1,thetaTilda_SG_P1) \n",
    "#computing loss\n",
    "n=testY_P1.size\n",
    "Lambda=1\n",
    "loss = RMSE(fx_SD_P1,testY_P1,n) \n",
    "print(\"Test Error for the stochastic gradient descent form solution :\", loss)"
   ]
  },
  {
   "cell_type": "markdown",
   "metadata": {
    "id": "TOwWZ384e7gP"
   },
   "source": [
    "<b>(b)  Implement K-fold cross validation on the training set to obtain best regularization λ and get optimal θ. Consider root mean squared error(RMSE) as regression error, and report error on test samples. Report optimal λ,θ test and training errors for K∈{2,10,N}, where N is number of samples. For all cases, considern-degree polynomials, andbasis function expansion φ(·) = [1,x,x2,...xn], try n∈{2,5,10}.  [10Points] </b>\n"
   ]
  },
  {
   "cell_type": "code",
   "execution_count": 26,
   "metadata": {
    "id": "UEumuJNWMhV6"
   },
   "outputs": [],
   "source": [
    "def kFoldValidation(nL,kL, Lambda):\n",
    "  res=pd.DataFrame(columns=['Lambda', 'n', 'k', 'Avg Error'])\n",
    "  for n in nL:\n",
    "    #iterate for each n degree\n",
    "    trainData = importTrainData()\n",
    "\n",
    "    for k in kL:\n",
    "      #iterate for each K value\n",
    "      avgError=0 #calculate average error\n",
    "      #Shuffling the train data\n",
    "      shuffledData = trainData.sample(frac=1)  \n",
    "      #splitting the train data into k parts   \n",
    "      result = np.array_split(shuffledData, k)    \n",
    "      index=list(range(0,k))\n",
    "      \n",
    "      for i in index:\n",
    "        #iterating to leave out 1, and train on the rest to the lowest error \n",
    "        # and the corresponding optimum lambda\n",
    "        testIndex=i\n",
    "        trainDF=pd.DataFrame(columns=['x','y'])\n",
    "        #creating trainDF and testDF\n",
    "        testDF=result[i]\n",
    "        trainDF=shuffledData\n",
    "        \n",
    "        testDF=testDF.reset_index(drop=True)\n",
    "        trainDF=trainDF.reset_index(drop=True)\n",
    "        temp=trainDF\n",
    "        trainDF=pd.concat([trainDF, testDF]).drop_duplicates(keep=False)\n",
    "        trainDF=trainDF.reset_index(drop=True)\n",
    "\n",
    "        #Seperating x and y in for train data\n",
    "        trainX, trainY = splitXY(trainDF)\n",
    "        #Seperating x and y in for test data\n",
    "        testX,testY= splitXY(testDF)\n",
    "        \n",
    "        trainX=createPhiX(trainX,n) #creating Phi(x) matrix for train data\n",
    "        testX=createPhiX(testX,n) #creating Phi(x) matrix for test data\n",
    "\n",
    "        # Train the model to generate thetaTilda by applying the \n",
    "        #closed form solution\n",
    "        thetaTilda=trainModelRidge(trainX,trainY,Lambda) \n",
    "        \n",
    "        #Predicting fx using the model trained by the closed form solution.\n",
    "        fx=predict(testX,thetaTilda)\n",
    "        \n",
    "        #computing loss\n",
    "        size=testY.size\n",
    "        error = RMSE(fx,testY,size)\n",
    "\n",
    "        avgError= avgError + error\n",
    "\n",
    "      avgError=avgError/k\n",
    "      new_row = {'Lambda':Lambda, 'n':n, 'k':k, 'Avg Error':avgError}\n",
    "      res = res.append(new_row, ignore_index=True)\n",
    "      \n",
    "  return res"
   ]
  },
  {
   "cell_type": "markdown",
   "metadata": {
    "id": "AyNvswQKwMi_"
   },
   "source": [
    "<b> kFoldValidation </b> implements the closed form solution for ridge regression, where in the validation error returned is the average error observed over the k iterations for the given degree and Lambda. \n",
    "\n",
    "\n"
   ]
  },
  {
   "cell_type": "code",
   "execution_count": 27,
   "metadata": {
    "colab": {
     "base_uri": "https://localhost:8080/"
    },
    "id": "JErAlQotvpaP",
    "outputId": "3c4e4c50-a954-43f7-8096-b483a000836a"
   },
   "outputs": [
    {
     "name": "stdout",
     "output_type": "stream",
     "text": [
      "=================================\n",
      "K Fold for Lambda  0.0001\n",
      "   Lambda     n     k   Avg Error\n",
      "0  0.0001   2.0   2.0  197.058026\n",
      "1  0.0001   2.0  10.0  186.459947\n",
      "2  0.0001   5.0   2.0   36.776985\n",
      "3  0.0001   5.0  10.0   29.466673\n",
      "4  0.0001  10.0   2.0  225.024969\n",
      "5  0.0001  10.0  10.0   34.985083\n",
      "=================================\n",
      "=================================\n",
      "K Fold for Lambda  0.001\n",
      "   Lambda     n     k   Avg Error\n",
      "0   0.001   2.0   2.0  194.200603\n",
      "1   0.001   2.0  10.0  191.068386\n",
      "2   0.001   5.0   2.0   49.753184\n",
      "3   0.001   5.0  10.0   29.799212\n",
      "4   0.001  10.0   2.0  157.146652\n",
      "5   0.001  10.0  10.0   33.465494\n",
      "=================================\n",
      "=================================\n",
      "K Fold for Lambda  0.01\n",
      "   Lambda     n     k   Avg Error\n",
      "0    0.01   2.0   2.0  202.615760\n",
      "1    0.01   2.0  10.0  190.118195\n",
      "2    0.01   5.0   2.0   35.849278\n",
      "3    0.01   5.0  10.0   29.951940\n",
      "4    0.01  10.0   2.0   32.498593\n",
      "5    0.01  10.0  10.0   34.902665\n",
      "=================================\n",
      "=================================\n",
      "K Fold for Lambda  0.1\n",
      "   Lambda     n     k   Avg Error\n",
      "0     0.1   2.0   2.0  241.895254\n",
      "1     0.1   2.0  10.0  193.831167\n",
      "2     0.1   5.0   2.0   35.307484\n",
      "3     0.1   5.0  10.0   29.406318\n",
      "4     0.1  10.0   2.0   32.121782\n",
      "5     0.1  10.0  10.0   34.470471\n",
      "=================================\n",
      "=================================\n",
      "K Fold for Lambda  1\n",
      "   Lambda     n     k   Avg Error\n",
      "0     1.0   2.0   2.0  200.276376\n",
      "1     1.0   2.0  10.0  188.414233\n",
      "2     1.0   5.0   2.0   43.657321\n",
      "3     1.0   5.0  10.0   29.174585\n",
      "4     1.0  10.0   2.0   33.090329\n",
      "5     1.0  10.0  10.0   33.819082\n",
      "=================================\n",
      "=================================\n",
      "K Fold for Lambda  3\n",
      "   Lambda     n     k   Avg Error\n",
      "0     3.0   2.0   2.0  223.507958\n",
      "1     3.0   2.0  10.0  193.350253\n",
      "2     3.0   5.0   2.0   30.089974\n",
      "3     3.0   5.0  10.0   29.985272\n",
      "4     3.0  10.0   2.0   42.050476\n",
      "5     3.0  10.0  10.0   34.707870\n",
      "=================================\n",
      "=================================\n",
      "K Fold for Lambda  10\n",
      "   Lambda     n     k   Avg Error\n",
      "0    10.0   2.0   2.0  192.291824\n",
      "1    10.0   2.0  10.0  183.330718\n",
      "2    10.0   5.0   2.0   34.787262\n",
      "3    10.0   5.0  10.0   29.739736\n",
      "4    10.0  10.0   2.0   35.266912\n",
      "5    10.0  10.0  10.0   36.326117\n",
      "=================================\n",
      "=================================\n",
      "K Fold for Lambda  100\n",
      "   Lambda     n     k   Avg Error\n",
      "0   100.0   2.0   2.0  229.234457\n",
      "1   100.0   2.0  10.0  186.382159\n",
      "2   100.0   5.0   2.0   32.208712\n",
      "3   100.0   5.0  10.0   29.291376\n",
      "4   100.0  10.0   2.0  160.513187\n",
      "5   100.0  10.0  10.0   34.563976\n",
      "=================================\n"
     ]
    }
   ],
   "source": [
    "lambdaL=[ 0.0001, 0.001, 0.01, 0.1, 1, 3, 10, 100]\n",
    "kL=[2,10]\n",
    "nL=[2,5,10]\n",
    "resDF=pd.DataFrame(columns=['Lambda', 'n', 'k', 'Avg Error'])\n",
    "for l in lambdaL:\n",
    "  print(\"=================================\")\n",
    "  print(\"K Fold for Lambda \", l)\n",
    "  res=kFoldValidation(nL,kL,l)\n",
    "  print(res)\n",
    "  resDF=resDF.append(res)\n",
    "  print(\"=================================\")\n"
   ]
  },
  {
   "cell_type": "code",
   "execution_count": 28,
   "metadata": {
    "colab": {
     "base_uri": "https://localhost:8080/"
    },
    "id": "hGjk58P8D1W8",
    "outputId": "e3231cd3-37b3-41f9-d0ff-c58a9e224543"
   },
   "outputs": [
    {
     "name": "stdout",
     "output_type": "stream",
     "text": [
      "Optimum parameter setting with least average validation error:\n",
      "   Lambda    n     k  Avg Error\n",
      "3     1.0  5.0  10.0  29.174585\n"
     ]
    }
   ],
   "source": [
    "#Finding the optimal parameters setting with the least average validation error\n",
    "minimumAvgError=resDF['Avg Error'].min()\n",
    "parameters=resDF.loc[resDF['Avg Error']==minimumAvgError]\n",
    "print(\"Optimum parameter setting with least average validation error:\")\n",
    "print(parameters)"
   ]
  },
  {
   "cell_type": "code",
   "execution_count": 29,
   "metadata": {
    "colab": {
     "base_uri": "https://localhost:8080/"
    },
    "id": "1l6MFv-07i_Z",
    "outputId": "563716cd-0d71-4f59-e6cc-acbf1a64d6ae"
   },
   "outputs": [
    {
     "name": "stdout",
     "output_type": "stream",
     "text": [
      "Test Error for the closed form solution : 25.205384260305\n"
     ]
    }
   ],
   "source": [
    "#Training and tseting the data on the optimal parameters\n",
    "n=int(parameters['n'])\n",
    "Lambda=int(parameters['Lambda'])\n",
    "\n",
    "#Importing Dataset\n",
    "trainData_P1= importTrainData()\n",
    "testData_P1=importTestData()\n",
    "\n",
    "#Seperating x and y in for train data\n",
    "trainX_P1, trainY_P1 = splitXY(trainData_P1)\n",
    "\n",
    "#Seperating x and y in for test data\n",
    "testX_P1, testY_P1 = splitXY(testData_P1)\n",
    "\n",
    "#creating Phi(x) matrix for train data \n",
    "trainX_P1=createPhiX(trainX_P1,n) \n",
    "\n",
    "#creating Phi(x) matrix for test data\n",
    "testX_P1=createPhiX(testX_P1,n) \n",
    "\n",
    "# Train the model to generate thetaTilda by applying \n",
    "#the closed form solution for Ridge Regression\n",
    "thetaTilda_P1=trainModelRidge(trainX_P1,trainY_P1,Lambda) \n",
    "\n",
    "#Predicting fx using the model trained by the closed form solution.\n",
    "fx_P1=predict(testX_P1,thetaTilda_P1)\n",
    "\n",
    "#computing loss\n",
    "n=testY_P1.size\n",
    "loss_P1 = RMSE(fx_P1,testY_P1,n)\n",
    "print(\"Test Error for the closed form solution :\", loss_P1)"
   ]
  },
  {
   "cell_type": "markdown",
   "metadata": {
    "id": "ahqsjUxLHjqm"
   },
   "source": [
    "<b>2.Logistic Regression \\\n",
    "(a)  Write  a  code  in  python  that  takes  input  a  training  dataset D={(x1,y1),...,(xN,yN)}, and its output is the weight vector w in the logistic regression model y=σ($w^Tx$).  [15 Points] </b>\n"
   ]
  },
  {
   "cell_type": "code",
   "execution_count": 30,
   "metadata": {
    "id": "4g_Ni7cUIFJ2"
   },
   "outputs": [],
   "source": [
    "def sigmoid(x):\n",
    "  res=1/(1+ np.exp(-x))\n",
    "  return res"
   ]
  },
  {
   "cell_type": "markdown",
   "metadata": {
    "id": "NLZ3f9kysbJy"
   },
   "source": [
    "<b> sigmoid </b> evaluates the below mentioned expression <br>\n",
    "$L=  {\\dfrac{1}{1+e^{-x}}} $\n",
    "\n",
    "And returns the result on applying the value to the sigmoid function. "
   ]
  },
  {
   "cell_type": "code",
   "execution_count": 31,
   "metadata": {
    "id": "Rr9aTkxnV8NZ"
   },
   "outputs": [],
   "source": [
    "def LogisticRegression(Xtrn, Y_trn, rho, epoch):\n",
    "  dim=X_trn.shape[1]\n",
    "  theta = np.random.rand(dim, 1) #initializing w to random value\n",
    "  for i in range(epoch):\n",
    "    sum=0\n",
    "    for j in range(len(X_trn)):\n",
    "      phiX=np.transpose(X_trn.iloc[j])\n",
    "      temp1=np.dot(np.transpose(theta),phiX)\n",
    "      sigmoidVal=sigmoid(temp1)\n",
    "      y=(Y_trn.iloc[j]).tolist()\n",
    "      temp3=y-sigmoidVal\n",
    "      temp4=phiX*(temp3)\n",
    "      sum=sum+temp4\n",
    "    temp5=((rho*sum).to_frame()).to_numpy()\n",
    "    theta=theta+(temp5)  \n",
    "\n",
    "  return(theta)"
   ]
  },
  {
   "cell_type": "markdown",
   "metadata": {
    "id": "IFqjAlr3tPBF"
   },
   "source": [
    "<b> LogisticRegression </b> applies Gradient Descent using the below equation: <br>\n",
    "$\\theta^{t+1} = \\theta^{t} + \\rho \\sum_{i=1}^{N} \\phi (x_i)  (y_i - {\\dfrac{1}{1+e^{-\\theta^T\\phi(x_i)}}})$\n",
    "\n",
    "And returns the vlaue of theta. "
   ]
  },
  {
   "cell_type": "code",
   "execution_count": 32,
   "metadata": {
    "id": "Dvoe_7weQhk-"
   },
   "outputs": [],
   "source": [
    "def logLoss(X_tst,Y_tst,theta):\n",
    "  z=np.dot(X_tst,theta)\n",
    "  Y_Pred=sigmoid(z)\n",
    "  logLoss= (-((Y_tst*np.log10(Y_Pred))) + (1-Y_tst)*np.log10(1-Y_Pred)).mean()\n",
    "\n",
    "  return(logLoss)\n"
   ]
  },
  {
   "cell_type": "markdown",
   "metadata": {
    "id": "i8VloIrOQjz5"
   },
   "source": [
    "<b> logLoss </b> calculates using the below equation: <br>\n",
    "\n",
    "$L_{log}(y,p)=-(ylog(p) + (1-y)log(1-p))$\n",
    "\n",
    "And returns the vlaue of log loss. "
   ]
  },
  {
   "cell_type": "code",
   "execution_count": 33,
   "metadata": {
    "id": "UIxnLL7ULQyW"
   },
   "outputs": [],
   "source": [
    "def plotDecisionBoundry(X_trn,Y_trn,theta):\n",
    "  #plotting decision boundry\n",
    "  points_x=[x/2. for x in range(-5,5)]\n",
    "\n",
    "  line_bias = theta[0]\n",
    "  line_w=[theta[1],theta[2]]\n",
    "  points_y=[line_w[0]*x + line_bias/(-1*line_w[1]) for x in points_x]\n",
    "  plt.plot(points_x, points_y, linewidth=2, color='black')\n",
    "  \n",
    "  #combining x and y to form a complete data set\n",
    "  trainData=X_trn\n",
    "  trainData['2']=Y_trn\n",
    "\n",
    "  # X = feature values, all the columns except the last column\n",
    "  X = np.array(trainData.iloc[:, :-1])\n",
    "\n",
    "  # y = target values, last column of the data frame\n",
    "  y = (trainData.iloc[:, -1])\n",
    "  # filter out the data that has class 1\n",
    "  class1 = trainData.loc[y == 1]\n",
    "  class1 = class1.drop(columns=['constant'])\n",
    "\n",
    "  # filter out the data that has class 0\n",
    "  class0 = trainData.loc[y == 0]\n",
    "  class0 = class0.drop(columns=['constant'])\n",
    "\n",
    "  #Plotting the data points\n",
    "  plt.scatter(class1.iloc[:, 0], class1.iloc[:, 1], s=10, label='Class1')\n",
    "  plt.scatter(class0.iloc[:, 0], class0.iloc[:, 1], s=10, label='Class0')\n",
    "  plt.legend()\n",
    "  plt.show()"
   ]
  },
  {
   "cell_type": "markdown",
   "metadata": {
    "id": "u48AAbvcCw_-"
   },
   "source": [
    "<b>(b)  Download the dataset HW2-2.  Run \\\n",
    "(1) on training data to compute w and  evaluate  on  test  set.   Plot  the  data  (use  different  colors  for data for different classes) and plot the decision boundary.  [5 Points] </b>\n"
   ]
  },
  {
   "cell_type": "code",
   "execution_count": 44,
   "metadata": {
    "id": "5ZqI3rlLC4_K"
   },
   "outputs": [],
   "source": [
    "%%capture\n",
    "#importing data from .mat file\n",
    "!wget https://github.com/apoorvamalemath/SML/blob/main/data1.mat?raw=true \n",
    "!mv data1.mat\\?raw\\=true data1.mat\n",
    "data1 = scipy.io.loadmat('data1.mat')\n",
    "\n",
    "#Extracting data from the data1 Dictionary\n",
    "X_trn=pd.DataFrame(data1['X_trn'])\n",
    "X_tst=pd.DataFrame(data1['X_tst'])\n",
    "\n",
    "Y_trn=pd.DataFrame(data1['Y_trn'])\n",
    "Y_tst=pd.DataFrame(data1['Y_tst'])\n",
    "\n",
    "#creating Phi(x) matrix for train data and test data by Appending '1' column \n",
    "X_trn.insert(0,'constant',1)\n",
    "X_tst.insert(0,'constant',1)"
   ]
  },
  {
   "cell_type": "code",
   "execution_count": 45,
   "metadata": {
    "colab": {
     "base_uri": "https://localhost:8080/"
    },
    "id": "1mPs6JeODld6",
    "outputId": "1d60c975-a110-4676-a68b-20653e274ccb"
   },
   "outputs": [
    {
     "name": "stdout",
     "output_type": "stream",
     "text": [
      "Theta using the logistic Regression: \n",
      "[[ 0.34654432]\n",
      " [ 1.98144223]\n",
      " [-1.02359093]]\n"
     ]
    }
   ],
   "source": [
    "#Fitting the logistic Regression Model\n",
    "rho=0.0001\n",
    "epoch=1000\n",
    "theta=LogisticRegression(X_trn,Y_trn, rho, epoch)\n",
    "print(\"Theta using the logistic Regression: \")\n",
    "print(theta)"
   ]
  },
  {
   "cell_type": "code",
   "execution_count": 46,
   "metadata": {
    "colab": {
     "base_uri": "https://localhost:8080/",
     "height": 265
    },
    "id": "WxcGzYA3F4Tc",
    "outputId": "f362ef25-44cf-4739-d7ef-b4f0dd719c1c"
   },
   "outputs": [
    {
     "data": {
      "image/png": "[encoded data removed]",
      "text/plain": [
       "<Figure size 432x288 with 1 Axes>"
      ]
     },
     "metadata": {
      "needs_background": "light"
     },
     "output_type": "display_data"
    }
   ],
   "source": [
    "#Plotting the decision boundry \n",
    "plotDecisionBoundry(X_trn, Y_trn,theta)"
   ]
  },
  {
   "cell_type": "code",
   "execution_count": 47,
   "metadata": {
    "colab": {
     "base_uri": "https://localhost:8080/"
    },
    "id": "DePKv3rINMJO",
    "outputId": "23561c67-d266-45b5-d765-00fd66156533"
   },
   "outputs": [
    {
     "name": "stdout",
     "output_type": "stream",
     "text": [
      "Log loss :  0.002132414995965543\n"
     ]
    }
   ],
   "source": [
    "#Computing Log loss to evaluate on test data\n",
    "loss=logLoss(X_tst,Y_tst, theta)\n",
    "print(\"Log loss : \", float(loss))"
   ]
  },
  {
   "cell_type": "markdown",
   "metadata": {
    "id": "hAgyxGS5J-p8"
   },
   "source": [
    "<b>(c)  Repeat (2) for HW2-3. Explain the differences between two datasetsand justify your results / observations.  [5 Points] </b>"
   ]
  },
  {
   "cell_type": "code",
   "execution_count": 48,
   "metadata": {
    "id": "yLiVrBeggxhP"
   },
   "outputs": [],
   "source": [
    "%%capture\n",
    "#importing data from .mat file\n",
    "!wget https://github.com/apoorvamalemath/SML/blob/main/data2.mat?raw=true \n",
    "!mv data2.mat\\?raw\\=true data2.mat\n",
    "data2 = scipy.io.loadmat('data2.mat')\n",
    "\n",
    "#Extracting data from the data1 Dictionary\n",
    "X_trn=pd.DataFrame(data2['X_trn'])\n",
    "X_tst=pd.DataFrame(data2['X_tst'])\n",
    "\n",
    "Y_trn=pd.DataFrame(data2['Y_trn'])\n",
    "Y_tst=pd.DataFrame(data2['Y_tst'])\n",
    "\n",
    "#creating Phi(x) matrix for train data and test data by Appending '1' column \n",
    "X_trn.insert(0,'constant',1)\n",
    "X_tst.insert(0,'constant',1)"
   ]
  },
  {
   "cell_type": "code",
   "execution_count": 41,
   "metadata": {
    "colab": {
     "base_uri": "https://localhost:8080/"
    },
    "id": "m9zovIi3iND3",
    "outputId": "e3e1ba90-1689-4498-e1ec-a70a0d9d3baf"
   },
   "outputs": [
    {
     "name": "stdout",
     "output_type": "stream",
     "text": [
      "Theta using the logistic Regression: \n",
      "[[ 0.39161236]\n",
      " [ 2.17102042]\n",
      " [-0.35971089]]\n"
     ]
    }
   ],
   "source": [
    "#Fitting the logistic Regression Model\n",
    "rho=0.0001\n",
    "n=1000\n",
    "theta=LogisticRegression(X_trn,Y_trn, rho,n)\n",
    "print(\"Theta using the logistic Regression: \")\n",
    "print(theta)"
   ]
  },
  {
   "cell_type": "code",
   "execution_count": 42,
   "metadata": {
    "colab": {
     "base_uri": "https://localhost:8080/",
     "height": 265
    },
    "id": "80aUohrYiTFW",
    "outputId": "b341b759-157b-4e97-d355-31af4ffa22cf"
   },
   "outputs": [
    {
     "data": {
      "image/png": "[encoded data removed]",
      "text/plain": [
       "<Figure size 432x288 with 1 Axes>"
      ]
     },
     "metadata": {
      "needs_background": "light"
     },
     "output_type": "display_data"
    }
   ],
   "source": [
    "#Plotting the decision boundry \n",
    "plotDecisionBoundry(X_trn, Y_trn,theta)"
   ]
  },
  {
   "cell_type": "code",
   "execution_count": 43,
   "metadata": {
    "colab": {
     "base_uri": "https://localhost:8080/"
    },
    "id": "qxtwyf_zRhSF",
    "outputId": "07eb23fd-fa82-4e7d-f519-b791ba446c2d"
   },
   "outputs": [
    {
     "name": "stdout",
     "output_type": "stream",
     "text": [
      "Log loss :  0.02831373338731127\n"
     ]
    }
   ],
   "source": [
    "#Computing Log loss to evaluate on test data\n",
    "loss=logLoss(X_tst,Y_tst, theta)\n",
    "print(\"Log loss : \", float(loss))"
   ]
  },
  {
   "cell_type": "markdown",
   "metadata": {
    "id": "h_YGX0ngX3f7"
   },
   "source": [
    " On comparing the above two plots, it is observered that in data1 there are just 2 points that are very close to the decision boundry. However, they are still getting classified in their respective classes. On observing data2, the classes overlap a little, it is seen that few points close to the decision boundry are getting classified in the wrong class. And log loss for data1 is lower than the log loss observed for data2.\n"
   ]
  }
 ],
 "metadata": {
  "colab": {
   "collapsed_sections": [],
   "name": "HW2.ipynb",
   "provenance": []
  },
  "kernelspec": {
   "display_name": "Python 3",
   "language": "python",
   "name": "python3"
  },
  "language_info": {
   "codemirror_mode": {
    "name": "ipython",
    "version": 3
   },
   "file_extension": ".py",
   "mimetype": "text/x-python",
   "name": "python",
   "nbconvert_exporter": "python",
   "pygments_lexer": "ipython3",
   "version": "3.8.8"
  }
 },
 "nbformat": 4,
 "nbformat_minor": 4
}
