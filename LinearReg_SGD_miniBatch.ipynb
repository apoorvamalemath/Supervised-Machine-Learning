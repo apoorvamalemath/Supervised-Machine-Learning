{
 "cells": [
  {
   "cell_type": "markdown",
   "metadata": {
    "id": "9Fow9OjTe6_v"
   },
   "source": [
    "<h1><center>Homework 1</center></h1>\n",
    "\n",
    "<h4><center> Linear Algebra, Convexity and Linear Regression </center></h4>\n",
    "<h4><center> Supervised Machine Learning DS-5220 - Fall 2021 </center></h4> "
   ]
  },
  {
   "cell_type": "markdown",
   "metadata": {
    "id": "PubK7FTOKXdX"
   },
   "source": [
    "<b>Submitted by: Apoorva Surendra Malemath <br>\n",
    "\n",
    "Date: Oct 1st, 2021<br></b>"
   ]
  },
  {
   "cell_type": "markdown",
   "metadata": {
    "id": "9x-eo_sVgF_2"
   },
   "source": [
    "<h2>1. Analytical </h2>"
   ]
  },
  {
   "cell_type": "markdown",
   "metadata": {
    "id": "4nfYB07-gSLl"
   },
   "source": [
    "<b> 1.  Show that for any arbitrary matrix $X∈R^{m×n}$, the matrix $G=XX^{T}$is always positive semi definite.  [5 Points] </b>\n",
    "\n",
    "For a matrix $X∈R^{m×n}$ to be termed, it should be symmetric and $v^TXv >= 0$, where v is an eigen vector for the matrix and $v ∈ R^n$\n",
    "\n",
    " $G$ is symmetric implies that $G^T = G$, i.e. <br>\n",
    "= $XX^T$ <br>\n",
    "= $(XX^T)^T$ <br>\n",
    "= $(X^T)^TX^T$ <br>\n",
    "[ Applying $(XY)^T = Y^TX^T$ ] <br>\n",
    "=$XX^T$ <br> --- equ(1)\n",
    "\n",
    "Thus, G is symmetric.\n",
    "\n",
    "\n",
    "We know that $XX^T$ is symmetric in nature from equ(1). <br>\n",
    "Now consider z to be a non-zero column vector. <br>\n",
    "\n",
    "$z^TX^TXz$ = $(zX)^T(zX)$    \n",
    "[$zx$ is a non-zero column vector]\n",
    "\n",
    "$(zX)^T(zX)$ is the square of inner product of $xz$\n",
    "\n",
    "--> $(zX)^T(zX)$ = $||Xz||_2^2 \\geqslant 0$     \n",
    "for all vectors $z\\neq 0$ <br>\n",
    "\n",
    "i.e. if v is an eigan vector then and  $\\lambda$  is an eigen value for the marix G i.e. $v^T\\lambda^T\\lambda v$ $= (\\lambda v)^T (\\lambda v)$\n",
    "\n",
    "<br>\n",
    "\n",
    "This implies that columns of $X$ are linearly independent. Thus, the matrix $G=XX^{T}$is always positive semi definite.\n",
    "\n",
    "\n",
    "\n",
    "\n",
    "\n"
   ]
  },
  {
   "cell_type": "markdown",
   "metadata": {
    "id": "5zS1MF1TNHQF"
   },
   "source": [
    "<b> 2. Norm is a real-valued function $f:X→R$ that satisfies following properties. <br> </b>\n",
    "<b>In class we covered $l_1$ and $l_∞$ norm. Show that they satisfy all four properties.  [10 Points]</b> <br><br>\n",
    "\n",
    "<b> (a)  Homogeneity: $f(sx) =|s|f(x)$ ,∀.  vector x and scalers. </b> <br>\n",
    "\n",
    "<b>$l_1$ Norm: </b> <br>\n",
    "By definition, $l1$ norm is the sum of the magnitudes of the vectors in a space. <br>\n",
    "$||x||_1 = |x_1| + |x_2| + ... + |x_n|$ <br>\n",
    "[Multiplying by scalar s on both sides] <br>\n",
    "$||sx||_1 = |sx_1| + |x_2| + ... + |sx_n|$ <br>\n",
    "\n",
    "[As s is common amongst all terms, it can taken out as a common term] <br>\n",
    "$= |s|(|x_1| + |x_2| + ... + |x_n|)$ <br>\n",
    "$= |s|(||x||_1)$ <br>\n",
    "$= |s|f(x)$ <br>\n",
    "\n",
    "<b>$l_∞$ Norm: </b> <br>\n",
    "By definition, $l_∞$ norm is the maximum of the magnitudes of the vectors in a space. <br>\n",
    "$||x||_∞ = max${$|x_1|, |x_2|, ... , |x_n|$} <br>\n",
    "[Multiplying by scalar s on both sides] <br>\n",
    "$||sx||_∞ = max${$|sx_1|, |sx_2|, ... , |sx_n|$} <br>\n",
    "\n",
    "[As s is common amongst all terms, it can taken out as a common term. And this will not affect the maximum value] <br>\n",
    "$= |s|max${$|x_1|, |x_2|, ... , |x_n|$} <br>\n",
    "$= |s|(||x||_∞)$ <br>\n",
    "$= |s|f(x)$ <br>\n",
    " <br>\n",
    "<b> (b)  Triangle Inequality: $f(x+y)≤f(x) +f(y)$. <br> </b>\n",
    "\n",
    "<b>$l_1$ Norm: </b> <br>\n",
    "Consider the equation for $l1$ Norm, <br>\n",
    "$||x||_1 = |x_1| + |x_2| + ... + |x_n|$ <br>\n",
    "[On adding y on both sides] <br>\n",
    "$||x+y||_1 = |x_1 + y_1| + |x_2 + y_2| + ... + |x_n + y_n|$ <br>\n",
    "[Applying triangle rule, $|x_i + y_i| \\leqslant |x_i| + |y_i| ]$ <br>\n",
    "$\\leqslant ((|x_1| + |y_1|) + (|x_2| + |y_2|) + .... + (|x_n| + |y_n|))$ <br>\n",
    "$\\leqslant \\sum |x_i| + \\sum |y_i|$ <br>\n",
    "--> $f(x+y)≤f(x) +f(y)$\n",
    "\n",
    "<b>$l_∞$ Norm: </b> <br>\n",
    "Consider the equation for $l1$ Norm, <br>\n",
    "$||x||_∞ = max$ {$|x_1|, |x_2|, ... , |x_n|$} <br>\n",
    "[On adding y on both sides] <br>\n",
    "$||x + y||_∞ = max${$|x_1 + y_1|, |x_2 + y_2|, ... , |x_n + y_n|$} <br>\n",
    "\n",
    "According to triangle rule, $|x_i + y_i| \\leqslant |x_i| + |y_i| ]$ <br>\n",
    "\n",
    "[Applying triangle rule to $l_∞$ Norm] <br>\n",
    "$||x + y||_∞ = max$ {$ \\leqslant |x_1| + |y_1| , \\leqslant |x_2| + |y_2| , ... , \\leqslant |x_n| + |y_n| $} <br>\n",
    "--> $f(x+y)≤f(x) +f(y)$\n",
    "\n",
    "<br>\n",
    "<b> (c)  Positive Definiteness: if $f(x) = 0$, then $x= 0$. <br> </b>\n",
    "\n",
    "<b>$l_1$ Norm: </b> <br>\n",
    "$||x||_1 = |x_1| + |x_2| + ... + |x_n|$ <br>\n",
    "From the above equation, $|x_1|, |x_2|, ... ,|x_n|$ will be positive values. And the sum can be zero when each of the term is zero. <br>\n",
    "Thus, $|x_1|=0, |x_2|=0, ... ,|x_n|=0$ <br>\n",
    "--> $|x|=0$ <br> \n",
    "Hence, if $f(x) = 0$ then $x= 0$. <br>\n",
    "\n",
    "<b>$l_∞$ Norm: </b> <br>\n",
    "\n",
    "$||x||_∞ = max${$|x_1|, |x_2|, ... , |x_n|$} <br>\n",
    "If $||x||_∞ = 0$, means that the maximum value was zero. And $|x_i|$ is positive or zero, and not a negative value. <br>\n",
    "\n",
    "Thus,  $|x_1|=0, |x_2|=0, ... ,|x_n|=0$ <br> \n",
    "\n",
    "Hence, $||x||_∞ = 0$ imples that $x = 0$\n",
    "\n",
    "<br>\n",
    "<b> (d)  Non-negativity: $f(x)≥0, ∀x$. </b>\n",
    "\n",
    "<b>$l_1$ Norm: </b> <br>\n",
    "$||x||_1 = |x_1| + |x_2| + ... + |x_n|$ <br>\n",
    "From the above equation, $|x_1|, |x_2|, ... ,|x_n|$ will be positive values. <br>\n",
    "i.e. $|x_i| \\geqslant 0$ --> The sum of all the terms will also be greater than or equal to zero. <br>\n",
    "-->  $f(x)≥0,  ∀x$ <br>\n",
    "\n",
    "<b>$l_∞$ Norm: </b> <br>\n",
    "$||x||_∞ = max${$|x_1|, |x_2|, ... , |x_n|$} <br>\n",
    "\n",
    "Since $|x_i| \\geqslant 0 $ --> On applying maximum function to get the $||x||_∞$ will also be greater than or equal to zero.\n",
    "\n",
    "i.e. $||x||_∞ \\geqslant 0$ As $max${$|x_1|, |x_2|, ... , |x_n|$} $\\geqslant 0$ <br>\n",
    "Hence, $f(x)≥0, ∀x$ \n",
    "\n",
    "<br>"
   ]
  },
  {
   "cell_type": "markdown",
   "metadata": {
    "id": "s0lI3H-sjbWE"
   },
   "source": [
    "<b>3.  Let $A∈R^{m×n}$ and B∈R^{n×p}, show that $C=AB={\\sum_{i=1}^{n}a_ib_i^T}$, where $a_i$ is i-th column of matrix A, and $b_i^T$ is i-th row of B.  [5 Points]</b>\n",
    "\n",
    "Consider matrix $A= \\left[ \\begin{array}{cc}\n",
    "A_{11} & A_{11} & ... & A_{1n} \\\\\n",
    "A_{21} & A_{21} & ... & A_{2n} \\\\\n",
    "\\vdots & \\vdots & ... & \\vdots\\\\\n",
    "A_{m1} & A_{m1} & ... & A_{mn}\n",
    "\\end{array} \\right]\n",
    "%$\n",
    "<br>\n",
    "\n",
    "and $B= \\left[ \\begin{array}{cc}\n",
    "B_{11} & B_{12} & ... & B_{1p} \\\\\n",
    "B_{21} & B_{22} & ... & B_{2p} \\\\\n",
    "\\vdots & \\vdots & ... & \\vdots\\\\\n",
    "B_{n1} & B_{n2} & ... & B_{np}\n",
    "\\end{array} \\right]\n",
    "%$\n",
    "<br>\n",
    "\n",
    "$AB= \\left[ \\begin{array}{cc}\n",
    "A_{11}B_{11} + A_{12}B_{21}  & ... & ... & A_{11}B_{1p}+A_{1n}B_{np} \\\\\n",
    "\\vdots & \\vdots & ... & \\vdots\\\\\n",
    "\\vdots & \\vdots & ... & \\vdots\\\\\n",
    "A_{m1}B_{11} + A_{m2}B_{21} & ... & ... & A_{m1}B_{1p} + A_{mn}B_{np}\n",
    "\\end{array} \\right]\n",
    "%$\n",
    "\n",
    "$AB= \\left[ \\begin{array}{cc}\n",
    "\\sum A_{1i}B_{i1} & \\sum A_{1i}B_{i2} & ... & ... & \\sum A_{1i}B_{ip}\\\\\n",
    "\\vdots & \\vdots & ... & \\vdots\\\\\n",
    "\\vdots & \\vdots & ... & \\vdots\\\\\n",
    "\\sum A_{mi}B_{i1} &\\sum A_{mi}B_{i2} & ... & ... & \\sum A_{mi}B_{ip}\n",
    "\\end{array} \\right]\n",
    "%$ ------- equ (1)\n",
    "\n",
    "<br> <br>\n",
    "Further we can respesent $\\sum_{i=1}^{n} A_iB_i^T$ as <br>\n",
    "\n",
    "$= \\left[ \\begin{array}{cc}\n",
    "A_{11}  \\\\\n",
    "A_{21}  \\\\\n",
    "\\vdots  \\\\\n",
    "A_{m1} \n",
    "\\end{array} \\right]\n",
    "%$\n",
    "$\\left[ \\begin{array}{cc}\n",
    "B_{11} & B_{12} & ... & B_{1p} \\\\\n",
    "\\end{array} \\right]\n",
    "%$+ ..... + $ \\left[ \\begin{array}{cc}\n",
    "A_{1n}  \\\\\n",
    "A_{2n}  \\\\\n",
    "\\vdots  \\\\\n",
    "A_{mn} \n",
    "\\end{array} \\right]\n",
    "%$\n",
    "$\\left[ \\begin{array}{cc}\n",
    "B_{n1} & B_{n2} & ... & B_{np} \\\\\n",
    "\\end{array} \\right]\n",
    "%$\n",
    "<br>\n",
    "\n",
    "$= \\left[ \\begin{array}{cc}\n",
    "A_{11}B_{11} & A_{11}B_{12} & ... & A_{11}B_{1p} \\\\\n",
    "A_{21}B_{11} & A_{21}B_{12} & ... & A_{21}B_{1p} \\\\\n",
    "\\vdots & \\vdots & ... & \\vdots\\\\\n",
    "A_{m1}B_{11} & A_{m1}B_{12} & ... & A_{m1}B_{1p}\n",
    "\\end{array} \\right]\n",
    "%\n",
    " + \\left[ \\begin{array}{cc}\n",
    "A_{12}B_{21} & A_{12}B_{22} & ... & A_{12}B_{2p}\\\\\n",
    "A_{22}B_{21} & A_{22}B_{22} & ... & A_{22}B_{2p} \\\\\n",
    "\\vdots & \\vdots & ... & \\vdots\\\\\n",
    "A_{m2}B_{21} & A_{m2}B_{22} & ... & A_{m2}B_{2p}\\\n",
    "\\end{array} \\right]\n",
    "%\n",
    "+$ <br>\n",
    "$.... + \\left[ \\begin{array}{cc}\n",
    "A_{1n}B_{n1} & A_{1n}B_{n2} & ... & A_{1n}B_{np}\\\\\n",
    "A_{2n}B_{n1} & A_{2n}B_{n2} & ... & A_{2n}B_{np} \\\\\n",
    "\\vdots & \\vdots & ... & \\vdots\\\\\n",
    "A_{mn}B_{n1} & A_{mn}B_{n2} & ... & A_{mn}B_{np}\\\n",
    "\\end{array} \\right]$\n",
    "\n",
    "<br>\n",
    "$= \\left[ \\begin{array}{cc}\n",
    "A_{11}B_{11} + A_{12}B_{21}  & ... & ... & A_{11}B_{1p}+A_{1n}B_{np} \\\\\n",
    "\\vdots & \\vdots & ... & \\vdots\\\\\n",
    "\\vdots & \\vdots & ... & \\vdots\\\\\n",
    "A_{m1}B_{11} + A_{m2}B_{21} & ... & ... & A_{m1}B_{1p} + A_{mn}B_{np}\n",
    "\\end{array} \\right]\n",
    "%$\n",
    "\n",
    "$= \\left[ \\begin{array}{cc}\n",
    "\\sum A_{1i}B_{i1} & \\sum A_{1i}B_{i2} & ... & ... & \\sum A_{1i}B_{ip}\\\\\n",
    "\\vdots & \\vdots & ... & \\vdots\\\\\n",
    "\\vdots & \\vdots & ... & \\vdots\\\\\n",
    "\\sum A_{mi}B_{i1} &\\sum A_{mi}B_{i2} & ... & ... & \\sum A_{mi}B_{ip}\n",
    "\\end{array} \\right]\n",
    "%$ ------- equ (2)\n",
    "\n",
    "<br>\n",
    "equ(1)== equ(1) --> Thus, proved\n",
    "\n",
    "Alternatively, the same can be represented as \n",
    "$A= \\left[ \\begin{array}{cc}\n",
    "| & | &  &  |\\\\\n",
    "a_1 & a_2 & ... & a_n \\\\\n",
    "| & | &  & |\n",
    "\\end{array} \\right]\n",
    "%$\n",
    "<br>\n",
    "\n",
    "$B= \\left[ \\begin{array}{cc}\n",
    "- & b_1^T & -\\\\\n",
    "- & b_2^T & -\\\\\n",
    " & ... &   \\\\\n",
    "- & b_n^T & - \n",
    "\\end{array} \\right]\n",
    "%$\n",
    "\n",
    "<br> \n",
    "Resultant matrix is obtained by applying outer product i.e. multipying each column of $A$ times corresponding row of $B$.  \n",
    "$A\\otimes B =  \\left[ \\begin{array}{cc}\n",
    "| \\\\\n",
    "a_i \\\\\n",
    "| \n",
    "\\end{array} \\right]\n",
    "%$\n",
    "$\\left[ \\begin{array}{cc}\n",
    "- & b_i^T & -\\\\\n",
    "\\end{array} \\right]\n",
    "%$\n",
    "$=\\left[ \\begin{array}{cc}\n",
    "| &  & |\\\\\n",
    "b_{i1}a_1 & ... & b_{ip}a_i \\\\\n",
    "| &  &\n",
    "\\end{array} \\right]\n",
    "%\n",
    "$\n",
    "<br>\n",
    "\n",
    "$A\\otimes B = \\sum \n",
    "\\left[ \\begin{array}{cc}\n",
    "- & a_{1i}b_i^T & -\\\\\n",
    " & ... & \\\\\n",
    "- & a_{ni}b_i^T & -\n",
    "\\end{array} \\right]\n",
    "%\n",
    "$\n",
    "<br>\n",
    "\n",
    "i.e. $AB = \\sum_{i=1}^n a_ib_i^T$\n",
    "\n",
    "\n",
    "\n",
    "<br>\n",
    "\n",
    "<br>"
   ]
  },
  {
   "cell_type": "markdown",
   "metadata": {
    "id": "DGoKddeQOFgX"
   },
   "source": [
    "<b>4.  Show that you can always write a matrix $A∈R^{n×n}$ as a sum of a symmetric and anti-symmetric matrix. i.e. $A=B+C$ where B is a symmetric and C is anti-symmetric matrix. Derive B and C.  [5 Points]</b>\n",
    "\n",
    "$A=A^T$  Symmetric matrix <br>\n",
    "$A=-A^T$ Anti Symmetric matrix or skew matrix <br>\n",
    "\n",
    "$(A+A^T)$ is symmetric in nature <br>\n",
    "$(A-A^T)$ is anti-symmetric in nature <br>\n",
    "\n",
    "Any square matrix $A\\in R^{mxn}$ can be represented as sum of symmetric and antisymmetric matrix. <br>\n",
    "\n",
    "$A = \\frac{1}{2} (A + A^T) + \\frac{1}{2} (A - A^T)$\n",
    "\n",
    "Let $B = (A + A^T)$ <br>\n",
    "[Taking Transpose on both the sides] <br>\n",
    "$B^T = (A + A^T)^T$ <br>\n",
    "$=A^T + (A^T)^T$          \n",
    "[Applying $(A^T)^T=A$] <br>\n",
    "$=A^T+A$ <br>\n",
    "[Applying $A^T+A = A+A^T$] <br>\n",
    "$=(A+A^T)$  --> Symmetric in nature. <br> <br>\n",
    "\n",
    "\n",
    "Let $C = (A - A^T)$ <br>\n",
    "$C^T = (A - A^T)^T$ <br>\n",
    "= $A^T - (A^T)^T$ <br>          \n",
    "[Applying $(A^T)^T=A$] <br>\n",
    "$=A^T-A$ <br>\n",
    "$=-(A-A^T)$ = -C  --> Anti - Symmetric in nature. <br>\n",
    "Thus, $(A - A^T)$ is skew symmetric <br>\n",
    "\n",
    "<br>\n",
    "Since for any matrix $A$, $(KA)^T = KA^T$. <br>\n",
    "Thus, any square matrix can be expressed as sum of symmetric and skew symmetric matrix."
   ]
  },
  {
   "cell_type": "markdown",
   "metadata": {
    "id": "RQYV1_8bOFqT"
   },
   "source": [
    "<b>5. For vectors $x∈R^n$, $a∈R^n$ and matrices $X∈R^{n×n}$ and $A∈R^{n×n}$, show the following.  [12 Points] </b> <br>\n",
    "\n",
    "<b>(a)$\\frac{d}{dx}(a^Tx) =a$ </b> <br>\n",
    "\n",
    "$\\frac{\\partial }{\\partial x} (a^TX) = \\left[ \\begin{array}{cc}\n",
    "\\frac{\\partial }{\\partial x}a_1 x_1 \\\\\n",
    "\\frac{\\partial }{\\partial x}a_2 x_2\\\\\n",
    "\\vdots\\\\\n",
    "\\frac{\\partial }{\\partial x}a_n x_n\n",
    "\\end{array} \\right]$\n",
    "\n",
    "$= \\left[ \\begin{array}{cc}\n",
    "a_1\\frac{\\partial }{\\partial x} x_1 \\\\\n",
    "a_2\\frac{\\partial }{\\partial x} x_2\\\\\n",
    "\\vdots\\\\\n",
    "a_n\\frac{\\partial }{\\partial x} x_n\n",
    "\\end{array} \\right]$\n",
    "\n",
    "$= \\left[ \\begin{array}{cc}\n",
    "a_1 \\\\\n",
    "a_2\\\\\n",
    "\\vdots\\\\\n",
    "a_n\n",
    "\\end{array} \\right]$\n",
    "\n",
    "$= a$\n",
    "\n",
    "<br>\n",
    "\n",
    "<b>(b)$\\frac{d}{dx}(x^TAx) = (A+A^T)x$ </b> <br>\n",
    "$=\\frac{d}{dx}(x^TAx)$ <br>\n",
    "$=\\frac{d}{dx}(x^T(Ax))$ <br>\n",
    "$=x\\frac{d}{dx}(x^TA) + x^T A \\frac{d}{dx}(x)$ <br>\n",
    "[Applying $x^TA$ = I i.e. Identity matrix] <br>\n",
    "$=Ax + x^TA$ <br>\n",
    "[Applying $AB^T = A^TB$] <br>\n",
    "$=Ax + A^Tx$ <br>\n",
    "$=(A + A^T)x$ <br>\n",
    "\n",
    "<br>\n",
    "\n",
    "<b>(c)$\\frac{d}{dx}(‖y−Ax‖_2^2) = 2AT(Ax−y)$ </b> <br>\n",
    "$=||y-Ax||^2$ <br>\n",
    "$=(y-Ax)^T (y-Ax)$ <br>\n",
    "\n",
    "<br>"
   ]
  },
  {
   "cell_type": "markdown",
   "metadata": {
    "id": "DRlfcOqSPbkM"
   },
   "source": [
    "<b>6. Determine whether following functions are convex or not.  [12 Points] </b> <br>\n",
    "\n",
    "<b>(a)$f(x) =e^{ax}$, for a fixed $a∈R$. <br> </b> <br>\n",
    "$f(x) = e^{ax}$ <br>\n",
    "\n",
    "$f'(x) = ae^{ax}$ <br>\n",
    "\n",
    "$f''(x) = a^2e^{ax}$ <br>\n",
    "\n",
    "As $a∈R$, $f''(x) \\geqslant 0$. <br>\n",
    "Thus, its a convex function. <br>\n",
    "\n",
    "\n",
    "<b>(b)$f(x) =|x|^p$, for any p >1. </b> <br>\n",
    "$f(x) = |x|^p$ <br>\n",
    "\n",
    "$f'(x) = p|x|^{p-1} \\frac{d}{dx}|x|$ <br>\n",
    "$=p|x|^{p-1} \\dfrac{x}{|x|}$ <br>\n",
    "$=px|x|^{p-2}$ <br>\n",
    "$=\\dfrac{p|x|^{p}}{x}$ <br>\n",
    "\n",
    "$f''(x) = \\frac{d}{dx} [\\frac{p|x|^p}{x}]$ <br>\n",
    "\n",
    "$= p. \\frac{d}{dx} [\\frac{|x|^p}{x}]$ <br>\n",
    "\n",
    "$= p. \\frac{\\frac{d}{dx}[|x|^p.x]- |x|^p.\\frac{d}{dx}[x]}{x^2} $ <br>\n",
    "\n",
    "$= p. \\frac{p|x|^{p-1}.\\frac{d}{dx}[x].x- 1|x|^p}{x^2} $ <br>\n",
    "\n",
    "$= p. \\frac{p|x|^{p-1}.\\frac{x}{|x|}.x- |x|^p}{x^2} $ <br>\n",
    "\n",
    "$= p. \\frac{px^2|x|^{p-2} - |x|^p}{x^2} $ <br>\n",
    "\n",
    "$=  \\frac{p|x|^p(p-1)}{x^2} $ <br>\n",
    "\n",
    "As $p>1$, $f''(x) \\geqslant 0$. <br>\n",
    "Thus, its a convex function. <br>\n",
    "\n",
    "<b>(c)$f(x) =−log(x)$, with the domain $x∈(0,+∞)$. </b> <br>\n",
    "\n",
    "$f(x) =−log(x)$ <br>\n",
    "\n",
    "$f'(x) = -\\frac{1}{x}$ <br>\n",
    "\n",
    "$f''(x) = -\\frac{d}{dx}[\\frac{1}{x}]$ <br>\n",
    "\n",
    "$f''(x) = \\frac{\\frac{d}{dx}[x]}{x^2}$ <br>\n",
    "\n",
    "$f''(x) = \\frac{1}{x^2}$ <br>\n",
    "\n",
    "As $x∈(0,+∞)$, $f''(x) \\geqslant 0$. <br>\n",
    "Thus, its a convex function. <br>\n",
    "\n",
    "\n",
    "<b>(d)$f(·)$, where f is a norm. <br></b>\n",
    "\n",
    " A function is a convex function $f(\\theta)$ if $∀ \\theta_i, \\theta_j, ∀ \\alpha [0,1]$\n",
    "\n",
    "To prove: <br>\n",
    "$F(\\alpha\\theta_i + (1-\\alpha)\\theta_j) \\leq f(\\theta_i) + (1-\\alpha)f(\\theta_j)$ <br>\n",
    "\n",
    "Consider $ F(\\alpha\\theta_i + (1-\\alpha)\\theta_j) $ <br>\n",
    "\n",
    "Applying Norm we get: <br>\n",
    "\n",
    "$||\\alpha\\theta_i + (1-\\alpha)\\theta_j ||$\n",
    "\n",
    "[Applying triangualr property] <br>\n",
    "$\\leq ||\\alpha\\theta_i|| + ||(1-\\alpha)\\theta_i || $ <br>\n",
    "[Applying Homogenity] <br>\n",
    "$\\leq \\alpha||\\theta_i|| + (1-\\alpha)||\\theta_i || $ <br>\n",
    "$\\leq f(\\theta_i) + (1-\\alpha)f(\\theta_j) $\n",
    "\n",
    "Thus, proved.\n"
   ]
  },
  {
   "cell_type": "markdown",
   "metadata": {
    "id": "36bngiPrjj6b"
   },
   "source": [
    " <h2>2. Programing </h2>"
   ]
  },
  {
   "cell_type": "markdown",
   "metadata": {
    "id": "CPyJ1olPjuJT"
   },
   "source": [
    "<b>1. Write a python code whose input is a training dataset{(x1,y1),...,(xN,yN)} and its output is the weight vector θ in the model $y=θ^{T}φ(x)$ for a non-linear mapping φ(·). <br>\n",
    "Consider mean squared error as loss function. Implement two cases <br>\n",
    "i) closed-form solution, and <br>\n",
    "ii) using stochastic gradientdescent on mini-batches of sizem. [25 Points] <br> </b>\n",
    "\n"
   ]
  },
  {
   "cell_type": "code",
   "execution_count": 75,
   "metadata": {
    "id": "rmbz9I-GkILQ"
   },
   "outputs": [],
   "source": [
    "#importing libraries\n",
    "import pandas as pd\n",
    "import numpy as np\n",
    "from numpy.linalg import inv"
   ]
  },
  {
   "cell_type": "code",
   "execution_count": 76,
   "metadata": {
    "id": "N5CHlor8jgxE"
   },
   "outputs": [],
   "source": [
    "#Importing Dataset\n",
    "train_url='https://drive.google.com/file/d/1PMJ7Ba4O109SHo_8yA3zGu5g6kAwiJDl/view?usp=sharing'\n",
    "url1 = 'https://drive.google.com/uc?id=' + train_url.split('/')[-2]\n",
    "trainData = pd.read_csv(url1)\n",
    "test_url = 'https://drive.google.com/file/d/1cWenY5-i4b9Vs40oVsnhUAXGkJT8jq0F/view?usp=sharing'\n",
    "url2 = 'https://drive.google.com/uc?id=' + test_url.split('/')[-2]\n",
    "testData = pd.read_csv(url2)\n",
    "\n",
    "#Seperating x and y in for train data\n",
    "trainX = trainData['x']\n",
    "trainY = trainData['y']\n",
    "\n",
    "#Seperating x and y in for test data \n",
    "testX = testData['x']\n",
    "testY = testData['y']\n",
    "\n",
    "#converting series datatype to pandas dataframe\n",
    "trainX = trainX.to_frame()\n",
    "trainY = trainY.to_frame()\n",
    "testX = testX.to_frame()\n",
    "testY = testY.to_frame()"
   ]
  },
  {
   "cell_type": "code",
   "execution_count": 77,
   "metadata": {
    "id": "DQkYWnBWlDxs"
   },
   "outputs": [],
   "source": [
    "def createPhiX(x,n):\n",
    "  # The function createPhix constructs a rich feature vector   \n",
    "  #x is the vector\n",
    "  #n denotes the maximum degree of x \n",
    "\n",
    "  # Appending theta0 i.e. 1 as the first column\n",
    "  x.insert(0,0, 1)\n",
    "  colX=x.iloc[: , -1] # Extracting col x\n",
    "  if(n==1):\n",
    "    return x\n",
    "  else:\n",
    "    for i in range(2,n+1):\n",
    "      colname=\"x\"+str(i)\n",
    "      x.insert(i,colname,colX**i) #appending column x with ith power\n",
    "\n",
    "  return x    \n"
   ]
  },
  {
   "cell_type": "markdown",
   "metadata": {
    "id": "_zCTWI_NIyZ0"
   },
   "source": [
    "<b>createPhix</b> constructs a rich feature vector. The function accepts an input vector with dimenssion 1 and the value n which denotes the maximum degree of x. <br>\n",
    "\n",
    "The function performs the following actions: \n",
    "\n",
    "1. Appends $θ_{0}$ with values 1.\n",
    "2. Appends the values $x^2$, $x^3$ .. $x^n$ based on the value of n.\n",
    "3.  Return the resultant matrix $\\phi(x_i)$"
   ]
  },
  {
   "cell_type": "code",
   "execution_count": 78,
   "metadata": {
    "id": "bywATDKbMy2F"
   },
   "outputs": [],
   "source": [
    "def trainModel(trainX,trainY):\n",
    "  # The function trainModel implements the closed form solution. \n",
    "\n",
    "  thetaTilda = np.dot(inv(np.dot(np.transpose(trainX),trainX)),np.dot(np.transpose(trainX), trainY))\n",
    "\n",
    "  return thetaTilda"
   ]
  },
  {
   "cell_type": "markdown",
   "metadata": {
    "id": "gEnYORPAKj34"
   },
   "source": [
    "<b>trainModel</b> implements the closed form solution using the below equation: <br>\n",
    "\n",
    "$\\tilde{\\theta}$ = $(x^Tx)^{-1}x^Ty$\n",
    "\n",
    "Returns the value for $\\tilde{\\theta}$"
   ]
  },
  {
   "cell_type": "code",
   "execution_count": 79,
   "metadata": {
    "id": "TD1GXDnMNQON"
   },
   "outputs": [],
   "source": [
    "def predict(testX,thetaTilda):\n",
    "  # The function predict outputs the value fx for the test data set. \n",
    "  fx=np.dot(testX, thetaTilda)\n",
    "\n",
    "  return fx"
   ]
  },
  {
   "cell_type": "markdown",
   "metadata": {
    "id": "bNAaCBr3L644"
   },
   "source": [
    "<b>predict</b> outputs the value $f(x)$ for the test data using the below equation: <br>\n",
    "$f(x) = x$$\\tilde{\\theta}$\n",
    "\n",
    "And returns the value for $f(x)$."
   ]
  },
  {
   "cell_type": "code",
   "execution_count": 80,
   "metadata": {
    "id": "92Ryi7zxO1CP"
   },
   "outputs": [],
   "source": [
    "def lossFunction (fx,testY,n):\n",
    "  # The function calculates the mean squared error.\n",
    "  #n denotes the number of samples in the dataset\n",
    "  loss =(abs(fx-testY))**2/n\n",
    "  return loss.sum()"
   ]
  },
  {
   "cell_type": "markdown",
   "metadata": {
    "id": "ZnpLYL-sMhE6"
   },
   "source": [
    "<b> lossFunction </b> calculates the mean squared error between the predicted value and actual value for the test dataset using the below equation: <br>\n",
    "$L=  {\\dfrac{\\sum_{n=1}^{n} (f(x_{i})-y_{i})}{n}} $\n",
    "\n",
    "And returns the loss value."
   ]
  },
  {
   "cell_type": "code",
   "execution_count": 81,
   "metadata": {
    "id": "nuV5wDsxDjY0"
   },
   "outputs": [],
   "source": [
    "def stochasticGD(trainData_SG, n,m,rho):\n",
    "  # The function implements the stochastic gradient descent on mini-batches of size m.\n",
    "  # n - number of iterations\n",
    "  # m - mini-batch size\n",
    "  # rho - learning rate\n",
    "  \n",
    "  dim=trainData_SG.shape[1]\n",
    "  thetaTilda = np.random.rand(dim-1, 1) #initializing thetaTilda to random value\n",
    "\n",
    "  for i in range(n):\n",
    "    for j in range(m): \n",
    "      miniX = trainData_SG.sample(m) #creating random samples from the train dataset\n",
    "      trainX_SG=miniX.iloc[:,0:dim-1]\n",
    "      trainY_SG=pd.DataFrame(miniX.iloc[:,dim-1])\n",
    "      thetaTilda = thetaTilda - (rho*np.dot(np.transpose(trainX_SG),(np.dot(trainX_SG,thetaTilda)-trainY_SG)))\n",
    "  \n",
    "  return thetaTilda"
   ]
  },
  {
   "cell_type": "markdown",
   "metadata": {
    "id": "DbCjW1TwQgN1"
   },
   "source": [
    "<b> stochasticGD </b> implements the stochastic gradient descent on mini-batches of size m using the below equation:\n",
    "\n",
    "$\\tilde{\\theta}^t$ = $ \\theta^{t-1} - \\rho x^T(x\\tilde{\\theta}^{t-1}-y)$\n",
    "\n",
    "And returns the vlaue for $\\tilde{\\theta}$."
   ]
  },
  {
   "cell_type": "code",
   "execution_count": 82,
   "metadata": {
    "id": "JFojhc37QXZW"
   },
   "outputs": [],
   "source": [
    "def stochasticGD_Plot(trainData_SG, n,m,rho):\n",
    "  # The function implements the stochastic gradient descent on mini-batches of size m.\n",
    "  # n - number of iterations\n",
    "  # m - mini-batch size\n",
    "  # rho - learning rate\n",
    "  \n",
    "  dim=trainData_SG.shape[1]\n",
    "  thetaTilda = np.random.rand(dim-1, 1) #initializing thetaTilda to random value\n",
    "\n",
    "  plotL = [] #to store theta values for each iteration\n",
    "  for i in range(n):\n",
    "    for j in range(m): \n",
    "      miniX = trainData_SG.sample(m) #creating random samples from the train dataset\n",
    "      trainX_SG=miniX.iloc[:,0:dim-1]\n",
    "      trainY_SG=pd.DataFrame(miniX.iloc[:,dim-1])\n",
    "      thetaTilda = thetaTilda - (rho*np.dot(np.transpose(trainX_SG),(np.dot(trainX_SG,thetaTilda)-trainY_SG)))\n",
    "    plotL.append(thetaTilda.tolist()) \n",
    "  \n",
    "  return thetaTilda,plotL"
   ]
  },
  {
   "cell_type": "markdown",
   "metadata": {
    "id": "w1O6wp28PtL5"
   },
   "source": [
    "<b> stochasticGD_Plot </b> implements the stochastic gradient descent on mini-batches of size m using the below equation:\n",
    "\n",
    "$\\tilde{\\theta}^t$ = $ \\theta^{t-1} - \\rho x^T(x\\tilde{\\theta}^{t-1}-y)$\n",
    "\n",
    "And returns the vlaue for $\\tilde{\\theta}$ and the value of theta for each iteration."
   ]
  },
  {
   "cell_type": "markdown",
   "metadata": {
    "id": "LnkUuS80SEPV"
   },
   "source": [
    "<b>(a) Download the train data and apply closed-form solution on train data and with learned weights, plot regression line over training data. [2Points] <br> </b>\n",
    "\n",
    "\n"
   ]
  },
  {
   "cell_type": "code",
   "execution_count": 83,
   "metadata": {
    "colab": {
     "base_uri": "https://localhost:8080/"
    },
    "id": "XGBM3CG7lmq0",
    "outputId": "c2900650-de71-4c29-ee66-72014dd2d829"
   },
   "outputs": [
    {
     "name": "stdout",
     "output_type": "stream",
     "text": [
      "trainX matrix (𝜙(𝑥)): \n",
      "     0         x\n",
      "0    1  3.770740\n",
      "1    1 -0.865439\n",
      "2    1 -3.647543\n",
      "3    1  2.801556\n",
      "4    1 -1.261815\n",
      "..  ..       ...\n",
      "195  1  2.557721\n",
      "196  1  3.166574\n",
      "197  1 -2.787970\n",
      "198  1  2.162351\n",
      "199  1 -0.003879\n",
      "\n",
      "[200 rows x 2 columns]\n"
     ]
    }
   ],
   "source": [
    "trainX=createPhiX(trainX,1) #creating Phi(x) matrix for train data\n",
    "print(\"trainX matrix (𝜙(𝑥)): \")\n",
    "print(trainX)"
   ]
  },
  {
   "cell_type": "code",
   "execution_count": 84,
   "metadata": {
    "colab": {
     "base_uri": "https://localhost:8080/"
    },
    "id": "d8eWvo05OGOX",
    "outputId": "55546adb-6fce-4c28-ee8b-040dd63cc8cc"
   },
   "outputs": [
    {
     "name": "stdout",
     "output_type": "stream",
     "text": [
      "testX matrix (𝜙(𝑥)):\n",
      "     0         x\n",
      "0    1 -2.374056\n",
      "1    1  2.100749\n",
      "2    1  1.800950\n",
      "3    1 -1.397595\n",
      "4    1 -1.149406\n",
      "..  ..       ...\n",
      "195  1 -0.252802\n",
      "196  1 -3.299499\n",
      "197  1 -2.780343\n",
      "198  1  0.987269\n",
      "199  1 -1.979368\n",
      "\n",
      "[200 rows x 2 columns]\n"
     ]
    }
   ],
   "source": [
    "testX=createPhiX(testX,1) #creating Phi(x) matrix for test data\n",
    "print(\"testX matrix (𝜙(𝑥)):\")\n",
    "print(testX)"
   ]
  },
  {
   "cell_type": "code",
   "execution_count": 85,
   "metadata": {
    "colab": {
     "base_uri": "https://localhost:8080/"
    },
    "id": "03ydzCPrmYPW",
    "outputId": "f90f83d9-7d9a-4c3b-90b3-790d368bd024"
   },
   "outputs": [
    {
     "name": "stdout",
     "output_type": "stream",
     "text": [
      "thetaTilda (𝜃̃):\n",
      "[[-7.51153451]\n",
      " [15.99346543]]\n"
     ]
    }
   ],
   "source": [
    "thetaTilda=trainModel(trainX,trainY) # Train the model to generate thetaTilda by applying the closed form solution\n",
    "print(\"thetaTilda (𝜃̃):\")\n",
    "print(thetaTilda)"
   ]
  },
  {
   "cell_type": "code",
   "execution_count": 86,
   "metadata": {
    "colab": {
     "base_uri": "https://localhost:8080/"
    },
    "id": "A1-Ad_I7g6L1",
    "outputId": "5ac25953-f1fc-44f5-da9c-1df5ed5ac62f"
   },
   "outputs": [
    {
     "name": "stdout",
     "output_type": "stream",
     "text": [
      "Test Error for the closed form solution : 352.1068104045031\n"
     ]
    }
   ],
   "source": [
    "#Predicting fx using the model trained by the closed form solution.\n",
    "fx=predict(testX,thetaTilda)\n",
    "#computing loss\n",
    "n=testY.size\n",
    "loss = lossFunction(fx,testY,n)\n",
    "print(\"Test Error for the closed form solution :\", loss[0])"
   ]
  },
  {
   "cell_type": "code",
   "execution_count": 87,
   "metadata": {
    "colab": {
     "base_uri": "https://localhost:8080/",
     "height": 295
    },
    "id": "ZfB1ZfMBQATm",
    "outputId": "6a091f90-2087-405b-a97e-72d9a3d3cf83"
   },
   "outputs": [
    {
     "data": {
      "image/png": "[encoded data removed]",
      "text/plain": [
       "<Figure size 432x288 with 1 Axes>"
      ]
     },
     "metadata": {
      "needs_background": "light"
     },
     "output_type": "display_data"
    }
   ],
   "source": [
    "import matplotlib.pyplot as plt\n",
    "\n",
    "#Regression line on training data\n",
    "plt.scatter(trainData['x'], trainData['y']) # The scatter plot represents the train data i.e. x vs y\n",
    "plt.plot(testX['x'],fx, color='red') # The regression line represents the test data and the predicted value.\n",
    "\n",
    "plt.title('X vs Y')\n",
    "plt.xlabel('X')\n",
    "plt.ylabel('Y')\n",
    "plt.show()"
   ]
  },
  {
   "cell_type": "markdown",
   "metadata": {
    "id": "Buvykxv-RJI-"
   },
   "source": [
    "From the above plot, the scatter points represent the train data i.e. the x vs y of the train data. <br>\n",
    "The line represents the test data and the predicted value i.e. it is plotted for x values in the test data vs the predicted values "
   ]
  },
  {
   "cell_type": "markdown",
   "metadata": {
    "id": "ghEQjNBCSJFr"
   },
   "source": [
    "<b>(b) Apply gradient descent with mini-batch of size 10. Plot iterations vs.θ. Change the mini-batch size and report its impact on learned weights. [3 Points] <br> </b>\n",
    "\n"
   ]
  },
  {
   "cell_type": "code",
   "execution_count": 88,
   "metadata": {
    "id": "H4xtXsDe9FC7"
   },
   "outputs": [],
   "source": [
    "trainData_SG=trainData['x'].to_frame()\n",
    "  \n",
    "#Creating Phi(X) for training data\n",
    "trainData_SG=createPhiX(trainData_SG,1)\n",
    "#Appending column Y to the train data\n",
    "trainData_SG['y']=trainY"
   ]
  },
  {
   "cell_type": "code",
   "execution_count": 89,
   "metadata": {
    "colab": {
     "base_uri": "https://localhost:8080/"
    },
    "id": "l76TvSvRB-z6",
    "outputId": "5fe689c3-71e5-4606-bd93-7d89bc182cfa"
   },
   "outputs": [
    {
     "name": "stdout",
     "output_type": "stream",
     "text": [
      "theta_SG on Applying stochastic gradient descent with mini-batch of size 10 :\n",
      "[-7.85899452]\n"
     ]
    }
   ],
   "source": [
    "#Applying stochastic gradient descent with mini-batch of size 10\n",
    "thetaTilda_SG, plotL=stochasticGD(trainData_SG,100,10,0.01)\n",
    "print(\"theta_SG on Applying stochastic gradient descent with mini-batch of size 10 :\")\n",
    "print(thetaTilda_SG)"
   ]
  },
  {
   "cell_type": "code",
   "execution_count": 90,
   "metadata": {
    "id": "kc0IWhVqQcMr"
   },
   "outputs": [],
   "source": [
    "def flatten(t):\n",
    "    return [item for sublist in t for item in sublist]"
   ]
  },
  {
   "cell_type": "markdown",
   "metadata": {
    "id": "ftOsr-EGegIL"
   },
   "source": [
    "Ploting iterations vs θ"
   ]
  },
  {
   "cell_type": "code",
   "execution_count": 91,
   "metadata": {
    "colab": {
     "base_uri": "https://localhost:8080/",
     "height": 248
    },
    "id": "5rVXlHQ0TOzs",
    "outputId": "cfe0807f-c40e-4f75-cab8-9a48865417ac"
   },
   "outputs": [
    {
     "data": {
      "image/png": "[encoded data removed]",
      "text/plain": [
       "<Figure size 432x288 with 1 Axes>"
      ]
     },
     "metadata": {
      "needs_background": "light"
     },
     "output_type": "display_data"
    }
   ],
   "source": [
    "# Ploting iterations vs.θ for 100 iterations, and a learning rate of 0.01 for 10 mini-batches\n",
    "thetaTilda_SG_Plot, plotL=stochasticGD_Plot(trainData_SG,100,10,0.01)\n",
    "iterations=list(range(1, 101))\n",
    "thetaDF = pd.DataFrame(plotL, columns = ['theta0', 'theta1'])\n",
    "x=thetaDF['theta0'] #theta0\n",
    "y=thetaDF['theta1'] #theta1\n",
    "\n",
    "theta0=flatten(x)\n",
    "theta1=flatten(y)\n",
    "fig = plt.figure()\n",
    "ax = plt.axes(projection='3d')\n",
    "ax.scatter(np.array(theta0), np.array(theta1), np.array(iterations))\n",
    "plt.title('Graph 1: theta0 vs theta1 vs iterations')\n",
    "ax.set_xlabel('theta0')\n",
    "ax.set_ylabel('theta1')\n",
    "ax.set_zlabel('Iterations');"
   ]
  },
  {
   "cell_type": "code",
   "execution_count": 92,
   "metadata": {
    "colab": {
     "base_uri": "https://localhost:8080/",
     "height": 573
    },
    "id": "prlw6gMKdTTX",
    "outputId": "a5603c18-1f7b-4b2e-ba39-88bedb3f51a9"
   },
   "outputs": [
    {
     "data": {
      "image/png": "[encoded data removed]",
      "text/plain": [
       "<Figure size 432x288 with 1 Axes>"
      ]
     },
     "metadata": {
      "needs_background": "light"
     },
     "output_type": "display_data"
    },
    {
     "data": {
      "image/png": "[encoded data removed]",
      "text/plain": [
       "<Figure size 432x288 with 1 Axes>"
      ]
     },
     "metadata": {
      "needs_background": "light"
     },
     "output_type": "display_data"
    }
   ],
   "source": [
    "#Iteration vs theta0 for 100 iterations, and a learning rate of 0.01 for 10 mini-batches\n",
    "plt.scatter(np.array(iterations), np.array(theta0)) # The scatter plot represents a plot for number of iterations vs theta0\n",
    "plt.title('Graph 2: iterations vs theta0')\n",
    "plt.xlabel('iterations')\n",
    "plt.ylabel('theta0')\n",
    "plt.show()\n",
    "\n",
    "#Iteration vs theta0 for 100 iterations, and a learning rate of 0.01 for 10 mini-batches\n",
    "plt.scatter(np.array(iterations), np.array(theta1)) # The scatter plot represents a plot for number of iterations vs theta1\n",
    "plt.title('Graph 3: iterations vs theta1')\n",
    "plt.xlabel('iterations')\n",
    "plt.ylabel('theta1')\n",
    "plt.show()"
   ]
  },
  {
   "cell_type": "code",
   "execution_count": 93,
   "metadata": {
    "colab": {
     "base_uri": "https://localhost:8080/",
     "height": 248
    },
    "id": "R3gnOfVnVUFi",
    "outputId": "096dfc2d-32ea-4970-8602-0ef13d52ac03"
   },
   "outputs": [
    {
     "data": {
      "image/png": "[encoded data removed]",
      "text/plain": [
       "<Figure size 432x288 with 1 Axes>"
      ]
     },
     "metadata": {
      "needs_background": "light"
     },
     "output_type": "display_data"
    }
   ],
   "source": [
    "# Ploting iterations vs.θ for 100 iterations, and a learning rate of 0.001 for 10 mini-batches\n",
    "thetaTilda_SG_Plot, plotL=stochasticGD_Plot(trainData_SG,100,10,0.001)\n",
    "iterations=list(range(1, 101))\n",
    "thetaDF = pd.DataFrame(plotL, columns = ['theta0', 'theta1'])\n",
    "x=thetaDF['theta0'] #theta0\n",
    "y=thetaDF['theta1'] #theta1\n",
    "\n",
    "theta0=flatten(x)\n",
    "theta1=flatten(y)\n",
    "fig = plt.figure()\n",
    "ax = plt.axes(projection='3d')\n",
    "ax.scatter(np.array(theta0), np.array(theta1), np.array(iterations))\n",
    "plt.title('Graph 4: theta0 vs theta1 vs iterations')\n",
    "ax.set_xlabel('theta0')\n",
    "ax.set_ylabel('theta1')\n",
    "ax.set_zlabel('Iterations');"
   ]
  },
  {
   "cell_type": "code",
   "execution_count": 94,
   "metadata": {
    "colab": {
     "base_uri": "https://localhost:8080/",
     "height": 573
    },
    "id": "Bd1qFfn-V6fq",
    "outputId": "ff3b2d8b-4e63-450f-d2cd-ef3b2d62a8b4"
   },
   "outputs": [
    {
     "data": {
      "image/png": "[encoded data removed]",
      "text/plain": [
       "<Figure size 432x288 with 1 Axes>"
      ]
     },
     "metadata": {
      "needs_background": "light"
     },
     "output_type": "display_data"
    },
    {
     "data": {
      "image/png": "[encoded data removed]",
      "text/plain": [
       "<Figure size 432x288 with 1 Axes>"
      ]
     },
     "metadata": {
      "needs_background": "light"
     },
     "output_type": "display_data"
    }
   ],
   "source": [
    "#Iteration vs theta0 for 100 iterations, and a learning rate of 0.001 for 10 mini-batches\n",
    "plt.scatter(np.array(iterations), np.array(theta0)) # The scatter plot represents a plot for number of iterations vs theta0\n",
    "plt.title('Graph 5: iterations vs theta0')\n",
    "plt.xlabel('iterations')\n",
    "plt.ylabel('theta0')\n",
    "plt.show()\n",
    "\n",
    "#Iteration vs theta1 for 100 iterations, and a learning rate of 0.001 for 10 mini-batches\n",
    "plt.scatter(np.array(iterations), np.array(theta1)) # The scatter plot represents a plot for number of iterations vs theta1\n",
    "plt.title('Graph 6: iterations vs theta1')\n",
    "plt.xlabel('iterations')\n",
    "plt.ylabel('theta1')\n",
    "plt.show()"
   ]
  },
  {
   "cell_type": "markdown",
   "metadata": {
    "id": "EY1xFlNTWLHW"
   },
   "source": [
    "From the above iterations vs. θ plots for 100 iterations, and a learning rate of 0.01 and 10 mini-batches, it is observed that that the values for $\\theta_0$ and $\\theta_1$ are scattered. The same can be seend from graphs 1,2 and 3.\n",
    "\n",
    "Where as, on changing the learning rate to 0.001 we observe that points converge as the number of iterations increase, the same can be seen in Graph 4. Also, it is interesting to observe that the graph 5 and graph 6 are the mirror image of each other. <br>\n",
    "\n",
    "As the number of iterations increased, the value of $\\theta_0$ decreased initally and almost remained constant and the value of $\\theta_1$ increased initally and remained constant later."
   ]
  },
  {
   "cell_type": "markdown",
   "metadata": {
    "id": "SqV_9JGReo0T"
   },
   "source": [
    "<b> Iteration vs change in mini-batch size <b>"
   ]
  },
  {
   "cell_type": "code",
   "execution_count": 65,
   "metadata": {
    "id": "c9WW-lBcDZio"
   },
   "outputs": [],
   "source": [
    "theta0=[]\n",
    "theta1=[]\n",
    "for i in range(1,201):\n",
    "  thetaTilda_SG=stochasticGD(trainData_SG,100,i,0.0001)\n",
    "  theta0.append(thetaTilda_SG[0].tolist()) #theta0\n",
    "  theta1.append(thetaTilda_SG[1].tolist()) #theta1"
   ]
  },
  {
   "cell_type": "code",
   "execution_count": 73,
   "metadata": {
    "colab": {
     "base_uri": "https://localhost:8080/",
     "height": 265
    },
    "id": "1tv4TSPfiPsb",
    "outputId": "cbb73d6c-fb7f-4c25-9831-134b9d58b644"
   },
   "outputs": [
    {
     "data": {
      "text/plain": [
       "Text(0.5, 0, 'No of mini batches')"
      ]
     },
     "execution_count": 73,
     "metadata": {},
     "output_type": "execute_result"
    },
    {
     "data": {
      "image/png": "[encoded data removed]",
      "text/plain": [
       "<Figure size 432x288 with 1 Axes>"
      ]
     },
     "metadata": {
      "needs_background": "light"
     },
     "output_type": "display_data"
    }
   ],
   "source": [
    "miniBatches=list(range(1, 201))\n",
    "\n",
    "fig = plt.figure()\n",
    "ax = plt.axes(projection='3d')\n",
    "ax.scatter(np.asarray(theta0), np.asarray(theta1), np.array(miniBatches))\n",
    "plt.title('Graph 7: theta0 vs theta1 vs Number of minibatches')\n",
    "ax.set_xlabel('theta0')\n",
    "ax.set_ylabel('theta1')\n",
    "ax.set_zlabel('No of mini batches')"
   ]
  },
  {
   "cell_type": "markdown",
   "metadata": {
    "id": "VypjVquBXUyW"
   },
   "source": [
    "<b>(c)  Write a predict function that takes a new test sample $(x_{tst},y_{tst})$, and learned weights θ, and outputs prediction $\\hat y$.  Report train and test error.  [2 Points] </b>\n"
   ]
  },
  {
   "cell_type": "markdown",
   "metadata": {
    "id": "D9B4ZSFDaoRt"
   },
   "source": [
    "The below snippet outputs the train and test error for closed form solution:"
   ]
  },
  {
   "cell_type": "code",
   "execution_count": 100,
   "metadata": {
    "id": "6TZBJgUJh4QV"
   },
   "outputs": [],
   "source": [
    "#Importing Dataset\n",
    "\n",
    "train_url='https://drive.google.com/file/d/1PMJ7Ba4O109SHo_8yA3zGu5g6kAwiJDl/view?usp=sharing'\n",
    "url1 = 'https://drive.google.com/uc?id=' + train_url.split('/')[-2]\n",
    "trainData = pd.read_csv(url1)\n",
    "test_url = 'https://drive.google.com/file/d/1cWenY5-i4b9Vs40oVsnhUAXGkJT8jq0F/view?usp=sharing'\n",
    "url2 = 'https://drive.google.com/uc?id=' + test_url.split('/')[-2]\n",
    "testData = pd.read_csv(url2)\n",
    "\n",
    "#Seperating x and y in for train data\n",
    "trainX = trainData['x']\n",
    "trainY = trainData['y']\n",
    "\n",
    "#Seperating x and y in for test data \n",
    "testX = testData['x']\n",
    "testY = testData['y']\n",
    "\n",
    "#converting series datatype to pandas dataframe\n",
    "trainX = trainX.to_frame()\n",
    "trainY = trainY.to_frame()\n",
    "testX = testX.to_frame()\n",
    "testY = testY.to_frame()"
   ]
  },
  {
   "cell_type": "code",
   "execution_count": 101,
   "metadata": {
    "id": "5t28KUThX-y2"
   },
   "outputs": [],
   "source": [
    "#Generating dataset from train data to generate train error\n",
    "trainDataTesting=trainData.sample(60) #selecting a sample of size 60 i.e. 30% of the data\n",
    "#xTesting, yTesting = trainData(trainData[['x']], trainData[['y']], test_size=0.33, random_state=42)\n",
    "xTesting=trainDataTesting['x'].to_frame()\n",
    "yTesting=trainDataTesting['y'].to_frame()\n",
    "\n",
    "#creating Phi(x) matrix for the data\n",
    "xTesting=createPhiX(xTesting,1) "
   ]
  },
  {
   "cell_type": "code",
   "execution_count": 102,
   "metadata": {
    "id": "Pmihu97ehQ7e"
   },
   "outputs": [],
   "source": [
    "trainX=createPhiX(trainX,1) #creating Phi(x) matrix for train data\n",
    "\n",
    "testX=createPhiX(testX,1) #creating Phi(x) matrix for test data\n",
    "\n",
    "thetaTilda=trainModel(trainX,trainY) # Train the model to generate thetaTilda by applying the closed form solution\n"
   ]
  },
  {
   "cell_type": "code",
   "execution_count": 103,
   "metadata": {
    "colab": {
     "base_uri": "https://localhost:8080/"
    },
    "id": "yFhdLQ1XcJvk",
    "outputId": "696eb53e-edc5-40f8-d703-a523ab035dee"
   },
   "outputs": [
    {
     "name": "stdout",
     "output_type": "stream",
     "text": [
      "Test Error for the closed form solution : 352.1068104045031\n",
      "Train Error for the closed form solution : 381.47855492483177\n"
     ]
    }
   ],
   "source": [
    "#Predicting fx using the model trained by the closed form solution using test data.\n",
    "fx=predict(testX,thetaTilda)\n",
    "#computing loss\n",
    "n=testY.size\n",
    "loss = lossFunction(fx,testY,n)\n",
    "print(\"Test Error for the closed form solution :\", loss[0])\n",
    "\n",
    "#Predicting fx using the model trained by the closed form solution using train data.\n",
    "fx=predict(xTesting,thetaTilda)\n",
    "#computing loss\n",
    "n=yTesting.size\n",
    "loss = lossFunction(fx,yTesting,n)\n",
    "print(\"Train Error for the closed form solution :\", loss[0])\n",
    "\n"
   ]
  },
  {
   "cell_type": "code",
   "execution_count": 104,
   "metadata": {
    "id": "9rmaZKSTdPwB"
   },
   "outputs": [],
   "source": [
    "trainData_SG=trainData['x'].to_frame()"
   ]
  },
  {
   "cell_type": "code",
   "execution_count": 105,
   "metadata": {
    "colab": {
     "base_uri": "https://localhost:8080/"
    },
    "id": "mzFEb7JqbqVt",
    "outputId": "fa29f083-daf2-4ac7-e658-42e523b00455"
   },
   "outputs": [
    {
     "name": "stdout",
     "output_type": "stream",
     "text": [
      "Test Error for the stochastic gradient descent form solution : 362.654517501344\n",
      "Train Error for the stochastic gradient descent form solution : 389.2618999694109\n"
     ]
    }
   ],
   "source": [
    "trainData_SG=trainData['x'].to_frame()\n",
    "  \n",
    "#Creating Phi(X) for training data\n",
    "trainData_SG=createPhiX(trainData_SG,1)\n",
    "#Appending column Y to the train data\n",
    "trainData_SG['y']=trainY\n",
    "\n",
    "#Applying stochastic gradient descent with mini-batch of size 10\n",
    "thetaTilda_SG=stochasticGD(trainData_SG,100,10,0.001)\n",
    "\n",
    "#Predicting fx using the model trained by the stochastic gradient descent with mini-batch of size 10 using test data.\n",
    "fx_SD=predict(testX,thetaTilda_SG) \n",
    "#computing loss\n",
    "n=testY.size\n",
    "loss = lossFunction(fx_SD,testY,n)\n",
    "print(\"Test Error for the stochastic gradient descent form solution :\", loss[0])\n",
    "\n",
    "#Predicting fx using the model trained by the stochastic gradient descent with mini-batch of size 10 using train data.\n",
    "fx_SD=predict(xTesting,thetaTilda_SG) \n",
    "#computing loss\n",
    "n=yTesting.size\n",
    "loss = lossFunction(fx_SD,yTesting,n)\n",
    "print(\"Train Error for the stochastic gradient descent form solution :\", loss[0])"
   ]
  },
  {
   "cell_type": "markdown",
   "metadata": {
    "id": "HRaUHZi2ZsnK"
   },
   "source": [
    "<b> 2. Consider n degree of polynomials, $φ(x) = [1,x,x^2,...,x^n]$.<br>\n",
    "\n",
    "(a)  Run  the  code  again  on  training  data  to  compute  theta  forn∈{2,3,5},  and report regression error (mean squared error) on train and test data for all n.  [15 Points] <br> </b>\n"
   ]
  },
  {
   "cell_type": "code",
   "execution_count": 111,
   "metadata": {
    "colab": {
     "base_uri": "https://localhost:8080/"
    },
    "id": "HRgyQW1_afxl",
    "outputId": "ad77fcbd-b7d0-45ab-e80a-1dcf6b670984"
   },
   "outputs": [
    {
     "name": "stdout",
     "output_type": "stream",
     "text": [
      "Closed form solution\n",
      "Test data Mean square error for n=  2  :  324.93733794720873\n",
      "Train data Mean square error for n=  2  :  309.83711819586364\n",
      "Test data Mean square error for n=  3  :  221.1052971246446\n",
      "Train data Mean square error for n=  3  :  219.26456620646908\n",
      "Test data Mean square error for n=  5  :  222.77597259782323\n",
      "Train data Mean square error for n=  5  :  192.61211167965072\n"
     ]
    }
   ],
   "source": [
    "print(\"Closed form solution\")\n",
    "nL=[2,3,5]\n",
    "\n",
    "for i in nL:\n",
    "  #Seperating x and y in for train data\n",
    "  trainX = trainData['x'].to_frame()\n",
    "  trainY=trainData['y'].to_frame()\n",
    "\n",
    "  #Seperating x and y in for test data\n",
    "  testX = testData['x'].to_frame()\n",
    "  testY= testData['y'].to_frame()\n",
    "  \n",
    "  #creating Phi(x) matrix for train data\n",
    "  trainX=createPhiX(trainX,i) \n",
    "  #creating Phi(x) matrix for test data\n",
    "  testX=createPhiX(testX,i) \n",
    "\n",
    "  # Train the model to generate thetaTilda by applying the closed form solution\n",
    "  thetaTilda=trainModel(trainX,trainY)\n",
    "\n",
    "  #Predict the value fx for the test data\n",
    "  fx=predict(testX,thetaTilda) \n",
    "\n",
    "  #computing loss\n",
    "  n=testY.size\n",
    "  loss = lossFunction(fx,testY,n)\n",
    "  print(\"Test data Mean square error for n= \", i ,\" : \", loss[0])\n",
    "\n",
    "  #Generating dataset from train data to generate train error\n",
    "  trainDataTesting=trainData.sample(60) #selecting a sample of size 60 i.e. 30% of the data\n",
    "\n",
    "  xTesting=trainDataTesting['x'].to_frame()\n",
    "  yTesting=trainDataTesting['y'].to_frame()\n",
    "\n",
    "  #creating Phi(x) matrix for the data\n",
    "  xTesting=createPhiX(xTesting,i) \n",
    "\n",
    "  #Predicting fx using the model trained by the closed form solution using train data.\n",
    "  fx=predict(xTesting,thetaTilda)\n",
    "  #computing loss\n",
    "  n=yTesting.size\n",
    "  loss = lossFunction(fx,yTesting,n)\n",
    "  print(\"Train data Mean square error for n= \", i ,\" : \", loss[0])\n"
   ]
  },
  {
   "cell_type": "code",
   "execution_count": 112,
   "metadata": {
    "colab": {
     "base_uri": "https://localhost:8080/"
    },
    "id": "S7tlNXwcjk9_",
    "outputId": "2c8d79a1-a358-4a3f-927b-b2e07aa09e92"
   },
   "outputs": [
    {
     "name": "stdout",
     "output_type": "stream",
     "text": [
      "stochastic gradient descent\n",
      "Test data Mean square error for n=  2  :  1127.4572705297353\n",
      "Train data Mean square error for n=  2  :  1413.017042892173\n",
      "Test data Mean square error for n=  3  :  255.7733362473795\n",
      "Train data Mean square error for n=  3  :  211.26114586979716\n",
      "Test data Mean square error for n=  5  :  243.45100425415\n",
      "Train data Mean square error for n=  5  :  217.8308471002435\n"
     ]
    }
   ],
   "source": [
    "print(\"stochastic gradient descent\")\n",
    "\n",
    "nL=[2,3,5]\n",
    "\n",
    "for i in nL:\n",
    "  trainData_SG=trainData['x'].to_frame()\n",
    "  \n",
    "  #Creating Phi(X) for training data\n",
    "  trainData_SG=createPhiX(trainData_SG,i)\n",
    "  #Appending column Y to the train data\n",
    "  trainData_SG['y']=trainY\n",
    "  \n",
    "  #Seperating x and y in for test data\n",
    "  testX = testData['x'].to_frame()\n",
    "  testY= testData['y'].to_frame()\n",
    "  \n",
    "  #creating Phi(x) matrix for test data\n",
    "  testX=createPhiX(testX,i)\n",
    "\n",
    "  #Applying stochastic gradient descent with mini-batch of size 10\n",
    "  thetaTilda_SG=stochasticGD(trainData_SG,100,10,0.000001)\n",
    "\n",
    "  #Predicting fx using the model trained by the stochastic gradient descent with mini-batch of size 10.\n",
    "  fx_SD=predict(testX,thetaTilda_SG) \n",
    "  #computing loss\n",
    "  n=testY.size\n",
    "  loss = lossFunction(fx_SD,testY,n)\n",
    "  print(\"Test data Mean square error for n= \", i ,\" : \", loss[0])\n",
    "\n",
    "  #Generating dataset from train data to generate train error\n",
    "  trainDataTesting=trainData.sample(60) #selecting a sample of size 60 i.e. 30% of the data\n",
    "\n",
    "  xTesting=trainDataTesting['x'].to_frame()\n",
    "  yTesting=trainDataTesting['y'].to_frame()\n",
    "\n",
    "  #creating Phi(x) matrix for the data\n",
    "  xTesting=createPhiX(xTesting,i) \n",
    "\n",
    "  #Predicting fx using the model trained by the closed form solution using train data.\n",
    "  fx=predict(xTesting,thetaTilda_SG)\n",
    "  #computing loss\n",
    "  n=yTesting.size\n",
    "  loss = lossFunction(fx,yTesting,n)\n",
    "  print(\"Train data Mean square error for n= \", i ,\" : \", loss[0])\n"
   ]
  },
  {
   "cell_type": "markdown",
   "metadata": {
    "id": "Pzy1pvABay-R"
   },
   "source": [
    "<b>(b)  Which value of n is the best fit for this data?  Explain why.  [4 Points] </b>"
   ]
  },
  {
   "cell_type": "markdown",
   "metadata": {
    "id": "iXx_1IXLmNwQ"
   },
   "source": [
    "Comparing the train and test error of both closed form solution and stochastic gradient descent, it seems like the best fit should be n=3, and n=5 seems to overfit the data.\n",
    "\n",
    "When we have n=5, the model is performing really well on the training data, however performs poorly on the test data. i.e. On using close form solution the train error is 192.6 and the test error is 222.78, similarly on using stochastic gradient descent train error is 217.83 and the test error is 243.45. From the above values, its clear that the model performed well for the training data itself, but did not perform well when unseen data i.e. test data was applied on the same model. \n"
   ]
  }
 ],
 "metadata": {
  "colab": {
   "collapsed_sections": [],
   "name": "MALEMATH_HW1.ipynb",
   "provenance": []
  },
  "kernelspec": {
   "display_name": "Python 3",
   "language": "python",
   "name": "python3"
  },
  "language_info": {
   "codemirror_mode": {
    "name": "ipython",
    "version": 3
   },
   "file_extension": ".py",
   "mimetype": "text/x-python",
   "name": "python",
   "nbconvert_exporter": "python",
   "pygments_lexer": "ipython3",
   "version": "3.8.8"
  }
 },
 "nbformat": 4,
 "nbformat_minor": 4
}
